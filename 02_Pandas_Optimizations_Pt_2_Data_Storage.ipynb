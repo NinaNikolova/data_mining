{
  "cells": [
    {
      "cell_type": "markdown",
      "metadata": {
        "id": "view-in-github",
        "colab_type": "text"
      },
      "source": [
        "<a href=\"https://colab.research.google.com/github/NinaNikolova/data_mining/blob/main/02_Pandas_Optimizations_Pt_2_Data_Storage.ipynb\" target=\"_parent\"><img src=\"https://colab.research.google.com/assets/colab-badge.svg\" alt=\"Open In Colab\"/></a>"
      ]
    },
    {
      "cell_type": "markdown",
      "metadata": {
        "id": "1dkBp23jXFGR"
      },
      "source": [
        "# Pandas Data Storage\n",
        "#####Oптимизацията на съхранението на данни в Pandas, като разглежда различни методи за запазване на данни във файлове и анализира производителността им."
      ]
    },
    {
      "cell_type": "code",
      "execution_count": null,
      "metadata": {
        "id": "mD1VqHUmXFGU"
      },
      "outputs": [],
      "source": [
        "import pandas as pd\n",
        "import numpy as np"
      ]
    },
    {
      "cell_type": "code",
      "execution_count": null,
      "metadata": {
        "id": "snVDMBPHXFGV"
      },
      "outputs": [],
      "source": [
        "import os # стандартен модул в Python, който предоставя функции за работа с файлове и директории\n",
        "\n",
        "def print_files_and_sizes(directory):\n",
        "    for root, dirs, files in os.walk(directory): #os.walk(directory) обхожда всички поддиректории и файлове в дадената директория.\n",
        "        for file in files:\n",
        "            file_path = os.path.join(root, file) # Получава пълния път\n",
        "            file_size_bytes = os.path.getsize(file_path) #Изчислява размера в байтове\n",
        "            file_size_megabytes = file_size_bytes / (1024 * 1024) # Конвертира в мегабайти\n",
        "            print(f\"{file_path} - {file_size_megabytes:.2f} MB\") #Принтира резултата\n",
        "print_files_and_sizes('data/') #  ще принтира списък с всички файлове в директорията data/ заедно с техния размер."
      ]
    },
    {
      "cell_type": "markdown",
      "metadata": {
        "id": "d-A-tA0jXFGW"
      },
      "source": [
        "## Create our dataset - Създаване на Данни"
      ]
    },
    {
      "cell_type": "code",
      "execution_count": null,
      "metadata": {
        "id": "k2F7XzGCXFGW"
      },
      "outputs": [],
      "source": [
        "def get_dataset(size):\n",
        "    df = pd.DataFrame() # Генерира DataFrame със случайни стойности за различни атрибути:\n",
        "    df['size'] = np.random.choice(['big','medium','small'], size) # size – категория (big, medium, small).\n",
        "    df['age'] = np.random.randint(1, 50, size) # age – цяло число между 1 и 50.\n",
        "    df['team'] = np.random.choice(['red','blue','yellow','green'], size) # team – категория (red, blue, yellow, green).\n",
        "    df['win'] = np.random.choice(['yes','no'], size) # win – дали е победа (yes, no)\n",
        "    dates = pd.date_range('2020-01-01', '2022-12-31')\n",
        "    df['date'] = np.random.choice(dates, size) # date – случайна дата между 2020 и 2022 г.\n",
        "    df['prob'] = np.random.uniform(0, 1, size) #prob – случайна стойност между 0 и 1.\n",
        "    return df"
      ]
    },
    {
      "cell_type": "code",
      "execution_count": null,
      "metadata": {
        "id": "7VXN7uBOXFGX"
      },
      "outputs": [],
      "source": [
        "def set_dtypes(df): # Преобразува типовете данни за по-добра оптимизация\n",
        "    df['size'] = df['size'].astype('category') # size и team → category (за пестене на памет)\n",
        "    df['team'] = df['team'].astype('category')\n",
        "    df['age'] = df['age'].astype('int8') # int8 (тъй като максималната стойност е 50)\n",
        "    df['prob'] = df['prob'].astype('float32') #  float32 (по-малко памет от float64).\n",
        "    df['win'] = df['win'].map({'yes':True, 'no':False}) # bool (преобразува yes/no в True/False)\n",
        "    return df"
      ]
    },
    {
      "cell_type": "code",
      "execution_count": null,
      "metadata": {
        "id": "vkCZOObeXFGX",
        "outputId": "a08f3577-607f-4323-8456-c11b33805a65"
      },
      "outputs": [
        {
          "name": "stdout",
          "output_type": "stream",
          "text": [
            "<class 'pandas.core.frame.DataFrame'>\n",
            "RangeIndex: 10000 entries, 0 to 9999\n",
            "Data columns (total 6 columns):\n",
            " #   Column  Non-Null Count  Dtype         \n",
            "---  ------  --------------  -----         \n",
            " 0   size    10000 non-null  object        \n",
            " 1   age     10000 non-null  int32         \n",
            " 2   team    10000 non-null  object        \n",
            " 3   win     10000 non-null  object        \n",
            " 4   date    10000 non-null  datetime64[ns]\n",
            " 5   prob    10000 non-null  float64       \n",
            "dtypes: datetime64[ns](1), float64(1), int32(1), object(3)\n",
            "memory usage: 429.8+ KB\n"
          ]
        }
      ],
      "source": [
        "df = get_dataset(10_000)\n",
        "df.info()"
      ]
    },
    {
      "cell_type": "code",
      "execution_count": null,
      "metadata": {
        "id": "9O5HRXlfXFGY",
        "outputId": "e97d6ec1-3230-46d5-a5fe-d2c9cd721521"
      },
      "outputs": [
        {
          "name": "stdout",
          "output_type": "stream",
          "text": [
            "<class 'pandas.core.frame.DataFrame'>\n",
            "RangeIndex: 1000000 entries, 0 to 999999\n",
            "Data columns (total 6 columns):\n",
            " #   Column  Non-Null Count    Dtype         \n",
            "---  ------  --------------    -----         \n",
            " 0   size    1000000 non-null  object        \n",
            " 1   age     1000000 non-null  int32         \n",
            " 2   team    1000000 non-null  object        \n",
            " 3   win     1000000 non-null  object        \n",
            " 4   date    1000000 non-null  datetime64[ns]\n",
            " 5   prob    1000000 non-null  float64       \n",
            "dtypes: datetime64[ns](1), float64(1), int32(1), object(3)\n",
            "memory usage: 42.0+ MB\n"
          ]
        }
      ],
      "source": [
        "df = get_dataset(1_000_000)\n",
        "df.info()"
      ]
    },
    {
      "cell_type": "code",
      "execution_count": null,
      "metadata": {
        "id": "w2VGX_xlXFGZ",
        "outputId": "718984cb-16eb-4e8d-a174-c0c95219d2a1"
      },
      "outputs": [
        {
          "name": "stdout",
          "output_type": "stream",
          "text": [
            "<class 'pandas.core.frame.DataFrame'>\n",
            "RangeIndex: 1000000 entries, 0 to 999999\n",
            "Data columns (total 6 columns):\n",
            " #   Column  Non-Null Count    Dtype         \n",
            "---  ------  --------------    -----         \n",
            " 0   size    1000000 non-null  category      \n",
            " 1   age     1000000 non-null  int8          \n",
            " 2   team    1000000 non-null  category      \n",
            " 3   win     1000000 non-null  bool          \n",
            " 4   date    1000000 non-null  datetime64[ns]\n",
            " 5   prob    1000000 non-null  float32       \n",
            "dtypes: bool(1), category(2), datetime64[ns](1), float32(1), int8(1)\n",
            "memory usage: 15.3 MB\n"
          ]
        }
      ],
      "source": [
        "df = set_dtypes(df) # променя типовете на колоните на по-ефективни типове данни, за да се оптимизира използването на памет.\n",
        "df.info() # Показва информация за структурата и типовете данни на df след оптимизацията."
      ]
    },
    {
      "cell_type": "markdown",
      "metadata": {
        "id": "08AG90giXFGZ"
      },
      "source": [
        "## CSV(Comma-Separated Values) -Съхранение във файлове - Лесен за използване, но заема много памет.\n",
        "Запис с и без индекс:\n",
        "\n",
        "-Без индекс (index=False) намалява размера на файла"
      ]
    },
    {
      "cell_type": "code",
      "execution_count": null,
      "metadata": {
        "id": "M_7G24eRXFGZ",
        "outputId": "02480cb0-c332-4839-f0c6-88edbf0f33e2"
      },
      "outputs": [
        {
          "data": {
            "text/plain": [
              "'data/'"
            ]
          },
          "execution_count": 8,
          "metadata": {},
          "output_type": "execute_result"
        }
      ],
      "source": [
        "PATH = 'data/'\n",
        "PATH"
      ]
    },
    {
      "cell_type": "markdown",
      "metadata": {
        "id": "RXsTxm-EXFGa"
      },
      "source": [
        "##### Запазване csv"
      ]
    },
    {
      "cell_type": "code",
      "execution_count": null,
      "metadata": {
        "id": "S4SnQCq7XFGa",
        "outputId": "b0694470-df6d-4b0e-9060-2972e80486fe"
      },
      "outputs": [
        {
          "name": "stdout",
          "output_type": "stream",
          "text": [
            "CPU times: total: 2.81 s\n",
            "Wall time: 6.28 s\n"
          ]
        }
      ],
      "source": [
        "%%time\n",
        "df.to_csv(PATH + 'test_csv.csv')"
      ]
    },
    {
      "cell_type": "code",
      "execution_count": null,
      "metadata": {
        "id": "ZnxqxspqXFGa",
        "outputId": "adc91320-585b-4500-aa55-aa49e8233387"
      },
      "outputs": [
        {
          "name": "stdout",
          "output_type": "stream",
          "text": [
            "data/test_csv.csv - 46.73 MB\n"
          ]
        }
      ],
      "source": [
        "print_files_and_sizes('data/') # обхожда файловете в папката data/ и отпечатва техните размери в MB."
      ]
    },
    {
      "cell_type": "code",
      "execution_count": null,
      "metadata": {
        "id": "y1jcB_ZGXFGa",
        "outputId": "109326ab-63e5-4f49-d09f-dd3fe9beb41f"
      },
      "outputs": [
        {
          "data": {
            "text/html": [
              "<div>\n",
              "<style scoped>\n",
              "    .dataframe tbody tr th:only-of-type {\n",
              "        vertical-align: middle;\n",
              "    }\n",
              "\n",
              "    .dataframe tbody tr th {\n",
              "        vertical-align: top;\n",
              "    }\n",
              "\n",
              "    .dataframe thead th {\n",
              "        text-align: right;\n",
              "    }\n",
              "</style>\n",
              "<table border=\"1\" class=\"dataframe\">\n",
              "  <thead>\n",
              "    <tr style=\"text-align: right;\">\n",
              "      <th></th>\n",
              "      <th>Unnamed: 0</th>\n",
              "      <th>size</th>\n",
              "      <th>age</th>\n",
              "      <th>team</th>\n",
              "      <th>win</th>\n",
              "      <th>date</th>\n",
              "      <th>prob</th>\n",
              "    </tr>\n",
              "  </thead>\n",
              "  <tbody>\n",
              "    <tr>\n",
              "      <th>0</th>\n",
              "      <td>0</td>\n",
              "      <td>medium</td>\n",
              "      <td>47</td>\n",
              "      <td>yellow</td>\n",
              "      <td>False</td>\n",
              "      <td>2021-06-14</td>\n",
              "      <td>0.778592</td>\n",
              "    </tr>\n",
              "    <tr>\n",
              "      <th>1</th>\n",
              "      <td>1</td>\n",
              "      <td>medium</td>\n",
              "      <td>9</td>\n",
              "      <td>red</td>\n",
              "      <td>True</td>\n",
              "      <td>2021-02-11</td>\n",
              "      <td>0.201530</td>\n",
              "    </tr>\n",
              "    <tr>\n",
              "      <th>2</th>\n",
              "      <td>2</td>\n",
              "      <td>big</td>\n",
              "      <td>17</td>\n",
              "      <td>yellow</td>\n",
              "      <td>False</td>\n",
              "      <td>2020-12-26</td>\n",
              "      <td>0.259715</td>\n",
              "    </tr>\n",
              "    <tr>\n",
              "      <th>3</th>\n",
              "      <td>3</td>\n",
              "      <td>big</td>\n",
              "      <td>39</td>\n",
              "      <td>yellow</td>\n",
              "      <td>False</td>\n",
              "      <td>2020-07-19</td>\n",
              "      <td>0.753029</td>\n",
              "    </tr>\n",
              "    <tr>\n",
              "      <th>4</th>\n",
              "      <td>4</td>\n",
              "      <td>small</td>\n",
              "      <td>31</td>\n",
              "      <td>green</td>\n",
              "      <td>True</td>\n",
              "      <td>2022-02-23</td>\n",
              "      <td>0.029892</td>\n",
              "    </tr>\n",
              "  </tbody>\n",
              "</table>\n",
              "</div>"
            ],
            "text/plain": [
              "   Unnamed: 0    size  age    team    win        date      prob\n",
              "0           0  medium   47  yellow  False  2021-06-14  0.778592\n",
              "1           1  medium    9     red   True  2021-02-11  0.201530\n",
              "2           2     big   17  yellow  False  2020-12-26  0.259715\n",
              "3           3     big   39  yellow  False  2020-07-19  0.753029\n",
              "4           4   small   31   green   True  2022-02-23  0.029892"
            ]
          },
          "execution_count": 11,
          "metadata": {},
          "output_type": "execute_result"
        }
      ],
      "source": [
        "df = pd.read_csv(PATH + 'test_csv.csv') # Зарежда данни от CSV файл в pandas DataFrame\n",
        "df.head() # извежда първите 5 реда на таблицата, за да можем бързо да видим структурата и съдържанието на данните."
      ]
    },
    {
      "cell_type": "markdown",
      "metadata": {
        "id": "u5usWuIDXFGa"
      },
      "source": [
        "Запазване csv без index"
      ]
    },
    {
      "cell_type": "code",
      "execution_count": null,
      "metadata": {
        "id": "KQjcXxq1XFGa"
      },
      "outputs": [],
      "source": [
        "df = get_dataset(1_000_000) # Създава pandas DataFrame с 1 000 000 реда\n",
        "df.to_csv(PATH + 'test_csv.csv', index=False) # Запазва данните в CSV файл без индекс- pandas няма да запази индекса на редовете във файла."
      ]
    },
    {
      "cell_type": "code",
      "execution_count": null,
      "metadata": {
        "id": "-BGq0El1XFGb",
        "outputId": "56cf6a4b-64a4-4307-cb1b-09c0afe7570b"
      },
      "outputs": [
        {
          "name": "stdout",
          "output_type": "stream",
          "text": [
            "data/test_csv.csv - 46.49 MB\n"
          ]
        }
      ],
      "source": [
        "print_files_and_sizes('data/')"
      ]
    },
    {
      "cell_type": "code",
      "execution_count": null,
      "metadata": {
        "id": "99W9Yx8rXFGb",
        "outputId": "f05dfad6-c860-4de9-9aae-a12e30c0dbf5"
      },
      "outputs": [
        {
          "data": {
            "text/html": [
              "<div>\n",
              "<style scoped>\n",
              "    .dataframe tbody tr th:only-of-type {\n",
              "        vertical-align: middle;\n",
              "    }\n",
              "\n",
              "    .dataframe tbody tr th {\n",
              "        vertical-align: top;\n",
              "    }\n",
              "\n",
              "    .dataframe thead th {\n",
              "        text-align: right;\n",
              "    }\n",
              "</style>\n",
              "<table border=\"1\" class=\"dataframe\">\n",
              "  <thead>\n",
              "    <tr style=\"text-align: right;\">\n",
              "      <th></th>\n",
              "      <th>size</th>\n",
              "      <th>age</th>\n",
              "      <th>team</th>\n",
              "      <th>win</th>\n",
              "      <th>date</th>\n",
              "      <th>prob</th>\n",
              "    </tr>\n",
              "  </thead>\n",
              "  <tbody>\n",
              "    <tr>\n",
              "      <th>0</th>\n",
              "      <td>big</td>\n",
              "      <td>29</td>\n",
              "      <td>blue</td>\n",
              "      <td>yes</td>\n",
              "      <td>2022-03-28</td>\n",
              "      <td>0.502859</td>\n",
              "    </tr>\n",
              "    <tr>\n",
              "      <th>1</th>\n",
              "      <td>small</td>\n",
              "      <td>15</td>\n",
              "      <td>red</td>\n",
              "      <td>no</td>\n",
              "      <td>2022-07-24</td>\n",
              "      <td>0.290174</td>\n",
              "    </tr>\n",
              "    <tr>\n",
              "      <th>2</th>\n",
              "      <td>big</td>\n",
              "      <td>16</td>\n",
              "      <td>red</td>\n",
              "      <td>no</td>\n",
              "      <td>2022-01-10</td>\n",
              "      <td>0.870985</td>\n",
              "    </tr>\n",
              "    <tr>\n",
              "      <th>3</th>\n",
              "      <td>small</td>\n",
              "      <td>41</td>\n",
              "      <td>yellow</td>\n",
              "      <td>yes</td>\n",
              "      <td>2020-05-28</td>\n",
              "      <td>0.970990</td>\n",
              "    </tr>\n",
              "    <tr>\n",
              "      <th>4</th>\n",
              "      <td>small</td>\n",
              "      <td>10</td>\n",
              "      <td>green</td>\n",
              "      <td>yes</td>\n",
              "      <td>2021-10-30</td>\n",
              "      <td>0.286898</td>\n",
              "    </tr>\n",
              "  </tbody>\n",
              "</table>\n",
              "</div>"
            ],
            "text/plain": [
              "    size  age    team  win        date      prob\n",
              "0    big   29    blue  yes  2022-03-28  0.502859\n",
              "1  small   15     red   no  2022-07-24  0.290174\n",
              "2    big   16     red   no  2022-01-10  0.870985\n",
              "3  small   41  yellow  yes  2020-05-28  0.970990\n",
              "4  small   10   green  yes  2021-10-30  0.286898"
            ]
          },
          "execution_count": 14,
          "metadata": {},
          "output_type": "execute_result"
        }
      ],
      "source": [
        "df = pd.read_csv(PATH + 'test_csv.csv')\n",
        "df.head()"
      ]
    },
    {
      "cell_type": "markdown",
      "metadata": {
        "id": "eexv6IOsXFGb"
      },
      "source": [
        "Save the csv with index and set the index column when read the file"
      ]
    },
    {
      "cell_type": "code",
      "execution_count": null,
      "metadata": {
        "id": "gS1VSU5YXFGb"
      },
      "outputs": [],
      "source": [
        "df = get_dataset(1_000_000)\n",
        "df.to_csv(PATH + 'test_csv.csv', index=True) # index=True означава, че ще се запази индексът на DataFrame-а като отделна колона в CSV файла."
      ]
    },
    {
      "cell_type": "code",
      "execution_count": null,
      "metadata": {
        "id": "x6dMlIFAXFGb",
        "outputId": "1505649d-e59c-40d4-d002-ea9a7a8c22a8"
      },
      "outputs": [
        {
          "name": "stdout",
          "output_type": "stream",
          "text": [
            "data/test_csv.csv - 53.06 MB\n"
          ]
        }
      ],
      "source": [
        "print_files_and_sizes('data/')"
      ]
    },
    {
      "cell_type": "code",
      "execution_count": null,
      "metadata": {
        "id": "88FGSnh2XFGc",
        "outputId": "5b0cb7c8-d6b5-4d36-ef41-a76971734b6f"
      },
      "outputs": [
        {
          "data": {
            "text/html": [
              "<div>\n",
              "<style scoped>\n",
              "    .dataframe tbody tr th:only-of-type {\n",
              "        vertical-align: middle;\n",
              "    }\n",
              "\n",
              "    .dataframe tbody tr th {\n",
              "        vertical-align: top;\n",
              "    }\n",
              "\n",
              "    .dataframe thead th {\n",
              "        text-align: right;\n",
              "    }\n",
              "</style>\n",
              "<table border=\"1\" class=\"dataframe\">\n",
              "  <thead>\n",
              "    <tr style=\"text-align: right;\">\n",
              "      <th></th>\n",
              "      <th>size</th>\n",
              "      <th>age</th>\n",
              "      <th>team</th>\n",
              "      <th>win</th>\n",
              "      <th>date</th>\n",
              "      <th>prob</th>\n",
              "    </tr>\n",
              "  </thead>\n",
              "  <tbody>\n",
              "    <tr>\n",
              "      <th>0</th>\n",
              "      <td>medium</td>\n",
              "      <td>22</td>\n",
              "      <td>green</td>\n",
              "      <td>yes</td>\n",
              "      <td>2021-03-23</td>\n",
              "      <td>0.638345</td>\n",
              "    </tr>\n",
              "    <tr>\n",
              "      <th>1</th>\n",
              "      <td>small</td>\n",
              "      <td>17</td>\n",
              "      <td>blue</td>\n",
              "      <td>no</td>\n",
              "      <td>2020-06-04</td>\n",
              "      <td>0.833034</td>\n",
              "    </tr>\n",
              "    <tr>\n",
              "      <th>2</th>\n",
              "      <td>medium</td>\n",
              "      <td>43</td>\n",
              "      <td>red</td>\n",
              "      <td>yes</td>\n",
              "      <td>2022-08-11</td>\n",
              "      <td>0.580966</td>\n",
              "    </tr>\n",
              "    <tr>\n",
              "      <th>3</th>\n",
              "      <td>medium</td>\n",
              "      <td>2</td>\n",
              "      <td>red</td>\n",
              "      <td>yes</td>\n",
              "      <td>2022-12-30</td>\n",
              "      <td>0.809185</td>\n",
              "    </tr>\n",
              "    <tr>\n",
              "      <th>4</th>\n",
              "      <td>big</td>\n",
              "      <td>3</td>\n",
              "      <td>green</td>\n",
              "      <td>no</td>\n",
              "      <td>2022-05-26</td>\n",
              "      <td>0.502095</td>\n",
              "    </tr>\n",
              "  </tbody>\n",
              "</table>\n",
              "</div>"
            ],
            "text/plain": [
              "     size  age   team  win        date      prob\n",
              "0  medium   22  green  yes  2021-03-23  0.638345\n",
              "1   small   17   blue   no  2020-06-04  0.833034\n",
              "2  medium   43    red  yes  2022-08-11  0.580966\n",
              "3  medium    2    red  yes  2022-12-30  0.809185\n",
              "4     big    3  green   no  2022-05-26  0.502095"
            ]
          },
          "execution_count": 17,
          "metadata": {},
          "output_type": "execute_result"
        }
      ],
      "source": [
        "df = pd.read_csv(PATH + 'test_csv.csv', index_col=[0]) # index_col=[0] задава колоната с индекс в DataFrame. Ако CSV файлът има индексна колона като първа колона (например, 0, 1, 2, ...), тогава тази колона ще бъде автоматично разпозната като индекс на DataFrame.\n",
        "df.head()"
      ]
    },
    {
      "cell_type": "markdown",
      "metadata": {
        "id": "uSxvENW3XFGc"
      },
      "source": [
        "### Измерване времето"
      ]
    },
    {
      "cell_type": "code",
      "execution_count": null,
      "metadata": {
        "id": "cMiZhXH8XFGc",
        "outputId": "e9bc874f-c28a-4cbf-eebd-9ad252539ae4"
      },
      "outputs": [
        {
          "name": "stdout",
          "output_type": "stream",
          "text": [
            "6.51 s ± 52.7 ms per loop (mean ± std. dev. of 7 runs, 1 loop each)\n"
          ]
        }
      ],
      "source": [
        "df = get_dataset(1_000_000)\n",
        "%timeit df.to_csv(PATH + 'test_csv.csv', index=True)"
      ]
    },
    {
      "cell_type": "code",
      "execution_count": null,
      "metadata": {
        "id": "5tn4KAE-XFGc",
        "outputId": "045710e0-672d-4399-82a3-52b534b85050"
      },
      "outputs": [
        {
          "name": "stdout",
          "output_type": "stream",
          "text": [
            "1.37 s ± 55.5 ms per loop (mean ± std. dev. of 7 runs, 1 loop each)\n"
          ]
        }
      ],
      "source": [
        "%%timeit df = pd.read_csv(PATH + 'test_csv.csv', index_col=[0])"
      ]
    },
    {
      "cell_type": "code",
      "execution_count": null,
      "metadata": {
        "id": "tTbASXlkXFGc",
        "outputId": "29610bef-6d59-4152-80a0-77da7ad1f75d"
      },
      "outputs": [
        {
          "name": "stdout",
          "output_type": "stream",
          "text": [
            "<class 'pandas.core.frame.DataFrame'>\n",
            "RangeIndex: 1000000 entries, 0 to 999999\n",
            "Data columns (total 6 columns):\n",
            " #   Column  Non-Null Count    Dtype         \n",
            "---  ------  --------------    -----         \n",
            " 0   size    1000000 non-null  category      \n",
            " 1   age     1000000 non-null  int8          \n",
            " 2   team    1000000 non-null  category      \n",
            " 3   win     1000000 non-null  bool          \n",
            " 4   date    1000000 non-null  datetime64[ns]\n",
            " 5   prob    1000000 non-null  float32       \n",
            "dtypes: bool(1), category(2), datetime64[ns](1), float32(1), int8(1)\n",
            "memory usage: 15.3 MB\n"
          ]
        }
      ],
      "source": [
        "df = get_dataset(1_000_000)\n",
        "df = set_dtypes(df) # Извежда обобщена информация за df, включително броя на редовете, колоните, типовете на данните и използваната памет.\n",
        "df.info() # Извежда информация за df, включително броя на редовете и колоните, типовете на данните и използваната памет."
      ]
    },
    {
      "cell_type": "code",
      "execution_count": null,
      "metadata": {
        "id": "MaYDe2IpXFGc",
        "outputId": "56ea80b4-be66-48e4-82e9-5735e695d0ac"
      },
      "outputs": [
        {
          "name": "stdout",
          "output_type": "stream",
          "text": [
            "<class 'pandas.core.frame.DataFrame'>\n",
            "Index: 1000000 entries, 0 to 999999\n",
            "Data columns (total 6 columns):\n",
            " #   Column  Non-Null Count    Dtype  \n",
            "---  ------  --------------    -----  \n",
            " 0   size    1000000 non-null  object \n",
            " 1   age     1000000 non-null  int64  \n",
            " 2   team    1000000 non-null  object \n",
            " 3   win     1000000 non-null  bool   \n",
            " 4   date    1000000 non-null  object \n",
            " 5   prob    1000000 non-null  float64\n",
            "dtypes: bool(1), float64(1), int64(1), object(3)\n",
            "memory usage: 46.7+ MB\n"
          ]
        }
      ],
      "source": [
        "df.to_csv(PATH + 'test_csv.csv') # Записва df в CSV файл с име test_csv.csv в директорията, посочена в PATH.  CSV (Comma-Separated Values) е текстов формат за съхранение на таблици с данни.\n",
        "df = pd.read_csv(PATH + 'test_csv.csv', index_col=[0]) # Зарежда обратно данните от файла test_csv.csv в DataFrame df. index_col=[0] означава, че първата колона ще бъде използвана като индекс на DataFrame-\n",
        "df.info() # Извежда информация за df, включително броя на редовете и колоните, типовете на данните и използваната памет."
      ]
    },
    {
      "cell_type": "code",
      "execution_count": null,
      "metadata": {
        "id": "sHnF9ufbXFGd",
        "outputId": "dfb8dc5b-205d-470f-aed7-aabcc1dc7f60"
      },
      "outputs": [
        {
          "name": "stdout",
          "output_type": "stream",
          "text": [
            "<class 'pandas.core.frame.DataFrame'>\n",
            "Index: 1000000 entries, 0 to 999999\n",
            "Data columns (total 6 columns):\n",
            " #   Column  Non-Null Count    Dtype   \n",
            "---  ------  --------------    -----   \n",
            " 0   size    1000000 non-null  category\n",
            " 1   age     1000000 non-null  int8    \n",
            " 2   team    1000000 non-null  category\n",
            " 3   win     1000000 non-null  bool    \n",
            " 4   date    1000000 non-null  object  \n",
            " 5   prob    1000000 non-null  float64 \n",
            "dtypes: bool(1), category(2), float64(1), int8(1), object(1)\n",
            "memory usage: 26.7+ MB\n"
          ]
        }
      ],
      "source": [
        "df = pd.read_csv(PATH + 'test_csv.csv', index_col=[0],\n",
        "                 dtype={'size':'category',\n",
        "                        'age':'int8',\n",
        "                        'team':'category'\n",
        "\n",
        "                 }) # dtype={...} определя типовете на данните за конкретни колони, за да подобри ефективността.\n",
        "df.info()"
      ]
    },
    {
      "cell_type": "markdown",
      "metadata": {
        "id": "j13SQPvjXFGd"
      },
      "source": [
        "## Pickle - Двоичен формат за бързо зареждане и запис. Запазва типовете данни, но е специфичен за Python.\n",
        "- 38.79 MB (15.3 MB)\n",
        "- 1.77s to write\n",
        "- 722ms to read"
      ]
    },
    {
      "cell_type": "code",
      "execution_count": null,
      "metadata": {
        "id": "Evg2wcsAXFGd",
        "outputId": "ca616fd7-951e-457a-c3e1-36e76cc6c357"
      },
      "outputs": [
        {
          "name": "stdout",
          "output_type": "stream",
          "text": [
            "1.77 s ± 84.3 ms per loop (mean ± std. dev. of 7 runs, 1 loop each)\n",
            "722 ms ± 41.8 ms per loop (mean ± std. dev. of 7 runs, 1 loop each)\n"
          ]
        }
      ],
      "source": [
        "df = get_dataset(1_000_000)\n",
        "%timeit df.to_pickle(PATH + 'test.pickle') #  Записва df във файл test.pickle с помощта на pickle (бинарен формат за сериализация в Python)\n",
        "%timeit df_pickle = pd.read_pickle(PATH + 'test.pickle') # %timeit измерва колко време отнема тази операция при многократно изпълнение и връща средното време."
      ]
    },
    {
      "cell_type": "code",
      "execution_count": null,
      "metadata": {
        "id": "-aUoEnQXXFGd",
        "outputId": "38b8cb44-d94b-4660-e270-bd5ac4c64ecd"
      },
      "outputs": [
        {
          "name": "stdout",
          "output_type": "stream",
          "text": [
            "data/test.pickle - 38.79 MB\n",
            "data/test_csv.csv - 46.73 MB\n"
          ]
        }
      ],
      "source": [
        "print_files_and_sizes('data/')"
      ]
    },
    {
      "cell_type": "code",
      "execution_count": null,
      "metadata": {
        "id": "CZR6MZGtXFGe",
        "outputId": "a6d3ea6e-9349-44f9-844c-ca137037a64c"
      },
      "outputs": [
        {
          "name": "stdout",
          "output_type": "stream",
          "text": [
            "<class 'pandas.core.frame.DataFrame'>\n",
            "RangeIndex: 1000000 entries, 0 to 999999\n",
            "Data columns (total 6 columns):\n",
            " #   Column  Non-Null Count    Dtype         \n",
            "---  ------  --------------    -----         \n",
            " 0   size    1000000 non-null  category      \n",
            " 1   age     1000000 non-null  int8          \n",
            " 2   team    1000000 non-null  category      \n",
            " 3   win     1000000 non-null  bool          \n",
            " 4   date    1000000 non-null  datetime64[ns]\n",
            " 5   prob    1000000 non-null  float32       \n",
            "dtypes: bool(1), category(2), datetime64[ns](1), float32(1), int8(1)\n",
            "memory usage: 15.3 MB\n"
          ]
        }
      ],
      "source": [
        "df = get_dataset(1_000_000)\n",
        "df = set_dtypes(df)\n",
        "df.to_pickle(PATH + 'test.pickle')\n",
        "df_pickle = pd.read_pickle(PATH + 'test.pickle')\n",
        "df_pickle.info()"
      ]
    },
    {
      "cell_type": "markdown",
      "metadata": {
        "id": "nl-4Wz9HXFGe"
      },
      "source": [
        "## Parquet - Колонно-базиран формат, идеален за големи обеми данни.По-малък размер. Поддържа се от различни среди, включително Apache Spark.\n",
        "```\n",
        "!pip install pyarrow\n",
        "!pip install fastparquet"
      ]
    },
    {
      "cell_type": "code",
      "execution_count": null,
      "metadata": {
        "id": "sBSdELkIXFGe",
        "outputId": "f50ce43b-12df-4b95-ec40-1ea0a6bfa730"
      },
      "outputs": [
        {
          "name": "stdout",
          "output_type": "stream",
          "text": [
            "962 ms ± 44.9 ms per loop (mean ± std. dev. of 7 runs, 1 loop each)\n",
            "386 ms ± 16.1 ms per loop (mean ± std. dev. of 7 runs, 1 loop each)\n"
          ]
        }
      ],
      "source": [
        "df = get_dataset(1_000_000)\n",
        "%timeit df.to_parquet(PATH + 'test.parquet')\n",
        "%timeit df_parquet = pd.read_parquet(PATH + 'test.parquet')"
      ]
    },
    {
      "cell_type": "code",
      "execution_count": null,
      "metadata": {
        "id": "20gKb0mhXFGe",
        "outputId": "ff94a368-2b19-4866-cd8c-89401273bf60"
      },
      "outputs": [
        {
          "name": "stdout",
          "output_type": "stream",
          "text": [
            "data/test.parquet - 10.54 MB\n",
            "data/test.pickle - 15.26 MB\n",
            "data/test_csv.csv - 46.73 MB\n"
          ]
        }
      ],
      "source": [
        "print_files_and_sizes('data/')"
      ]
    },
    {
      "cell_type": "code",
      "execution_count": null,
      "metadata": {
        "id": "tOsez6vRXFGe",
        "outputId": "dfe7fe3c-4d11-456a-e685-79cb9e750828"
      },
      "outputs": [
        {
          "data": {
            "text/html": [
              "<div>\n",
              "<style scoped>\n",
              "    .dataframe tbody tr th:only-of-type {\n",
              "        vertical-align: middle;\n",
              "    }\n",
              "\n",
              "    .dataframe tbody tr th {\n",
              "        vertical-align: top;\n",
              "    }\n",
              "\n",
              "    .dataframe thead th {\n",
              "        text-align: right;\n",
              "    }\n",
              "</style>\n",
              "<table border=\"1\" class=\"dataframe\">\n",
              "  <thead>\n",
              "    <tr style=\"text-align: right;\">\n",
              "      <th></th>\n",
              "      <th>date</th>\n",
              "      <th>win</th>\n",
              "    </tr>\n",
              "  </thead>\n",
              "  <tbody>\n",
              "    <tr>\n",
              "      <th>0</th>\n",
              "      <td>2020-03-11</td>\n",
              "      <td>no</td>\n",
              "    </tr>\n",
              "    <tr>\n",
              "      <th>1</th>\n",
              "      <td>2020-01-03</td>\n",
              "      <td>no</td>\n",
              "    </tr>\n",
              "    <tr>\n",
              "      <th>2</th>\n",
              "      <td>2022-01-23</td>\n",
              "      <td>yes</td>\n",
              "    </tr>\n",
              "    <tr>\n",
              "      <th>3</th>\n",
              "      <td>2020-05-23</td>\n",
              "      <td>no</td>\n",
              "    </tr>\n",
              "    <tr>\n",
              "      <th>4</th>\n",
              "      <td>2022-11-26</td>\n",
              "      <td>no</td>\n",
              "    </tr>\n",
              "    <tr>\n",
              "      <th>...</th>\n",
              "      <td>...</td>\n",
              "      <td>...</td>\n",
              "    </tr>\n",
              "    <tr>\n",
              "      <th>999995</th>\n",
              "      <td>2021-01-02</td>\n",
              "      <td>yes</td>\n",
              "    </tr>\n",
              "    <tr>\n",
              "      <th>999996</th>\n",
              "      <td>2021-07-10</td>\n",
              "      <td>no</td>\n",
              "    </tr>\n",
              "    <tr>\n",
              "      <th>999997</th>\n",
              "      <td>2022-02-12</td>\n",
              "      <td>no</td>\n",
              "    </tr>\n",
              "    <tr>\n",
              "      <th>999998</th>\n",
              "      <td>2021-05-11</td>\n",
              "      <td>no</td>\n",
              "    </tr>\n",
              "    <tr>\n",
              "      <th>999999</th>\n",
              "      <td>2021-03-12</td>\n",
              "      <td>yes</td>\n",
              "    </tr>\n",
              "  </tbody>\n",
              "</table>\n",
              "<p>1000000 rows × 2 columns</p>\n",
              "</div>"
            ],
            "text/plain": [
              "             date  win\n",
              "0      2020-03-11   no\n",
              "1      2020-01-03   no\n",
              "2      2022-01-23  yes\n",
              "3      2020-05-23   no\n",
              "4      2022-11-26   no\n",
              "...           ...  ...\n",
              "999995 2021-01-02  yes\n",
              "999996 2021-07-10   no\n",
              "999997 2022-02-12   no\n",
              "999998 2021-05-11   no\n",
              "999999 2021-03-12  yes\n",
              "\n",
              "[1000000 rows x 2 columns]"
            ]
          },
          "execution_count": 28,
          "metadata": {},
          "output_type": "execute_result"
        }
      ],
      "source": [
        "pd.read_parquet(PATH + 'test.parquet', columns=['date', 'win'])"
      ]
    },
    {
      "cell_type": "markdown",
      "metadata": {
        "id": "iikIsvtfXFGf"
      },
      "source": [
        "## Feather-Подходящ за краткосрочно съхранение и бърза обработка. Не поддържа компресия."
      ]
    },
    {
      "cell_type": "code",
      "execution_count": null,
      "metadata": {
        "id": "qdu5TkH5XFGf",
        "outputId": "c8a72a8c-b1c5-404b-9338-7b775f4b20af"
      },
      "outputs": [
        {
          "name": "stdout",
          "output_type": "stream",
          "text": [
            "540 ms ± 21.8 ms per loop (mean ± std. dev. of 7 runs, 1 loop each)\n",
            "321 ms ± 27.2 ms per loop (mean ± std. dev. of 7 runs, 1 loop each)\n"
          ]
        }
      ],
      "source": [
        "df = get_dataset(1_000_000)\n",
        "%timeit df.to_feather(PATH + 'test.feather')\n",
        "%timeit df_feather = pd.read_feather(PATH + 'test.feather')"
      ]
    },
    {
      "cell_type": "code",
      "execution_count": null,
      "metadata": {
        "id": "bGw0_pQDXFGg",
        "outputId": "1278ec03-7ba2-4410-fe8c-026540e00eb6"
      },
      "outputs": [
        {
          "name": "stdout",
          "output_type": "stream",
          "text": [
            "data/test.feather - 27.72 MB\n",
            "data/test.parquet - 10.54 MB\n",
            "data/test.pickle - 15.26 MB\n",
            "data/test_csv.csv - 46.73 MB\n"
          ]
        }
      ],
      "source": [
        "print_files_and_sizes('data/')"
      ]
    },
    {
      "cell_type": "markdown",
      "metadata": {
        "id": "YEK8kj7iXFGg"
      },
      "source": [
        "##### Parquet е най-добрият вариант за дългосрочно съхранение, защото е компактен и бърз.\n",
        "\n",
        "##### Feather е подходящ за бързи операции, но не е най-оптималният за дългосрочно съхранение.\n",
        "\n",
        "##### Pickle е удобен за Python, но не се поддържа извън екосистемата на Python.\n",
        "\n",
        "##### CSV е лесен за използване, но заема много памет и е най-бавен."
      ]
    },
    {
      "cell_type": "markdown",
      "metadata": {
        "id": "gHJHaGRsXFGg"
      },
      "source": [
        "## Other"
      ]
    },
    {
      "cell_type": "code",
      "source": [],
      "metadata": {
        "id": "FO2aVhjXc_PW"
      },
      "execution_count": null,
      "outputs": []
    },
    {
      "cell_type": "code",
      "execution_count": null,
      "metadata": {
        "id": "_c7R66o4XFGg"
      },
      "outputs": [],
      "source": [
        "df = get_dataset(1_000_000) # създава DataFrame с 1 000 000 реда.\n",
        "df.to_ # Започва използване на метод за записване на DataFrame в файл, но не е завършено."
      ]
    },
    {
      "cell_type": "markdown",
      "source": [
        "df.to_csv('filename.csv') → Записва като CSV файл\n",
        "\n",
        "df.to_excel('filename.xlsx') → Записва като Excel файл\n",
        "\n",
        "df.to_pickle('filename.pkl') → Записва като Pickle файл (по-бърз за четене/писане)\n",
        "\n",
        "df.to_parquet('filename.parquet') → Записва като Parquet (ефективен за големи данни)\n",
        "\n",
        "df.to_feather('filename.feather') → Записва като Feather (по-бърз за четене)"
      ],
      "metadata": {
        "id": "PSuYuIirc5U0"
      }
    }
  ],
  "metadata": {
    "kernelspec": {
      "display_name": "Python 3 (ipykernel)",
      "language": "python",
      "name": "python3"
    },
    "language_info": {
      "codemirror_mode": {
        "name": "ipython",
        "version": 3
      },
      "file_extension": ".py",
      "mimetype": "text/x-python",
      "name": "python",
      "nbconvert_exporter": "python",
      "pygments_lexer": "ipython3",
      "version": "3.11.7"
    },
    "colab": {
      "provenance": [],
      "include_colab_link": true
    }
  },
  "nbformat": 4,
  "nbformat_minor": 0
}