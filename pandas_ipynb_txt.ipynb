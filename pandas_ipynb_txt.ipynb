{
  "cells": [
    {
      "cell_type": "markdown",
      "metadata": {
        "id": "view-in-github",
        "colab_type": "text"
      },
      "source": [
        "<a href=\"https://colab.research.google.com/github/NinaNikolova/data_mining/blob/main/pandas_ipynb_txt.ipynb\" target=\"_parent\"><img src=\"https://colab.research.google.com/assets/colab-badge.svg\" alt=\"Open In Colab\"/></a>"
      ]
    },
    {
      "cell_type": "code",
      "execution_count": null,
      "metadata": {
        "collapsed": true,
        "id": "Fgh17exXPgW2"
      },
      "outputs": [],
      "source": [
        "import pandas as pd\n",
        "import numpy as np"
      ]
    },
    {
      "cell_type": "code",
      "execution_count": null,
      "metadata": {
        "id": "5Bw1CD34PgW3",
        "outputId": "8da8abcd-fad1-408a-dc6f-54bd0ac8e434"
      },
      "outputs": [
        {
          "name": "stderr",
          "output_type": "stream",
          "text": [
            "C:\\ProgramData\\Anaconda3\\lib\\site-packages\\ipykernel_launcher.py:1: DeprecationWarning: The default dtype for empty Series will be 'object' instead of 'float64' in a future version. Specify a dtype explicitly to silence this warning.\n",
            "  \"\"\"Entry point for launching an IPython kernel.\n"
          ]
        },
        {
          "data": {
            "text/plain": [
              "Series([], dtype: float64)"
            ]
          },
          "execution_count": 2,
          "metadata": {},
          "output_type": "execute_result"
        }
      ],
      "source": [
        "s = pd.Series()\n",
        "s"
      ]
    },
    {
      "cell_type": "code",
      "execution_count": null,
      "metadata": {
        "id": "83_D-SAcPgW5",
        "outputId": "67bcf2a9-550e-42f7-b798-bb61c2136ea5"
      },
      "outputs": [
        {
          "data": {
            "text/plain": [
              "0    a\n",
              "1    b\n",
              "2    c\n",
              "3    d\n",
              "dtype: object"
            ]
          },
          "execution_count": 3,
          "metadata": {},
          "output_type": "execute_result"
        }
      ],
      "source": [
        "data = np.array(['a','b','c','d'])\n",
        "s = pd.Series(data)\n",
        "s"
      ]
    },
    {
      "cell_type": "code",
      "execution_count": null,
      "metadata": {
        "id": "vIG6lsqBPgW5",
        "outputId": "211f1e48-2807-4786-ad16-a5cde0524416"
      },
      "outputs": [
        {
          "data": {
            "text/plain": [
              "100    a\n",
              "101    b\n",
              "102    c\n",
              "103    d\n",
              "dtype: object"
            ]
          },
          "execution_count": 4,
          "metadata": {},
          "output_type": "execute_result"
        }
      ],
      "source": [
        "data = np.array(['a','b','c','d'])\n",
        "s = pd.Series(data,index=[100,101,102,103])\n",
        "s"
      ]
    },
    {
      "cell_type": "code",
      "execution_count": null,
      "metadata": {
        "id": "MP9jqsfGPgW6",
        "outputId": "0a19f80f-5c46-4040-8c00-196967279f87"
      },
      "outputs": [
        {
          "data": {
            "text/plain": [
              "a    0.0\n",
              "b    1.0\n",
              "c    2.0\n",
              "dtype: float64"
            ]
          },
          "execution_count": 5,
          "metadata": {},
          "output_type": "execute_result"
        }
      ],
      "source": [
        "data = {'a' : 0., 'b' : 1., 'c' : 2.}\n",
        "s = pd.Series(data)\n",
        "s"
      ]
    },
    {
      "cell_type": "code",
      "execution_count": null,
      "metadata": {
        "id": "iJ9n5GsePgW6",
        "outputId": "b1133be4-7347-4dd9-ac23-53685dd5478c"
      },
      "outputs": [
        {
          "data": {
            "text/plain": [
              "b    1.0\n",
              "c    2.0\n",
              "d    NaN\n",
              "a    0.0\n",
              "dtype: float64"
            ]
          },
          "execution_count": 6,
          "metadata": {},
          "output_type": "execute_result"
        }
      ],
      "source": [
        "data = {'a' : 0., 'b' : 1., 'c' : 2.}\n",
        "s = pd.Series(data,index=['b','c','d','a'])\n",
        "s"
      ]
    },
    {
      "cell_type": "code",
      "execution_count": null,
      "metadata": {
        "id": "3eBNW12aPgW6",
        "outputId": "da300e7e-a4a0-4939-b314-e142a2cc5df4"
      },
      "outputs": [
        {
          "data": {
            "text/plain": [
              "0    5\n",
              "1    5\n",
              "2    5\n",
              "3    5\n",
              "dtype: int64"
            ]
          },
          "execution_count": 7,
          "metadata": {},
          "output_type": "execute_result"
        }
      ],
      "source": [
        "s = pd.Series(5, index=[0, 1, 2, 3])\n",
        "s"
      ]
    },
    {
      "cell_type": "code",
      "execution_count": null,
      "metadata": {
        "id": "_zcPeJZyPgW6",
        "outputId": "46341403-5a55-4602-8550-b6cf7f528dea"
      },
      "outputs": [
        {
          "name": "stdout",
          "output_type": "stream",
          "text": [
            "b    1.0\n",
            "c    2.0\n",
            "d    NaN\n",
            "a    0.0\n",
            "dtype: float64\n",
            "1.0\n",
            "2.0\n"
          ]
        }
      ],
      "source": [
        "data = {'a' : 0., 'b' : 1., 'c' : 2.}\n",
        "s = pd.Series(data,index=['b','c','d','a'])\n",
        "print(s)\n",
        "print(s[0])\n",
        "print(s['c'])"
      ]
    },
    {
      "cell_type": "code",
      "execution_count": null,
      "metadata": {
        "id": "qce_ijtuPgW7",
        "outputId": "6250bc30-98cc-424e-9a33-bb6c911e9aa5"
      },
      "outputs": [
        {
          "name": "stdout",
          "output_type": "stream",
          "text": [
            "1    a\n",
            "2    b\n",
            "0    c\n",
            "3    d\n",
            "dtype: object\n",
            "c\n",
            "1    a\n",
            "2    b\n",
            "dtype: object\n"
          ]
        }
      ],
      "source": [
        "data = np.array(['a','b','c','d'])\n",
        "s = pd.Series(data,index=[1,2,0,3])\n",
        "print(s)\n",
        "print(s[0])\n",
        "print(s[:2])"
      ]
    },
    {
      "cell_type": "code",
      "execution_count": null,
      "metadata": {
        "collapsed": true,
        "id": "Za8pDhp6PgW7"
      },
      "outputs": [],
      "source": []
    },
    {
      "cell_type": "code",
      "execution_count": null,
      "metadata": {
        "collapsed": true,
        "id": "ULRwUJc2PgW7"
      },
      "outputs": [],
      "source": []
    },
    {
      "cell_type": "code",
      "execution_count": null,
      "metadata": {
        "collapsed": true,
        "id": "GbEKBWjbPgW8"
      },
      "outputs": [],
      "source": []
    },
    {
      "cell_type": "code",
      "execution_count": null,
      "metadata": {
        "collapsed": true,
        "id": "TqeKxuW7PgW8"
      },
      "outputs": [],
      "source": []
    },
    {
      "cell_type": "code",
      "execution_count": null,
      "metadata": {
        "collapsed": true,
        "id": "b39XnXbVPgW8"
      },
      "outputs": [],
      "source": []
    },
    {
      "cell_type": "code",
      "execution_count": null,
      "metadata": {
        "id": "788WZA8kPgW8",
        "outputId": "1e2800d7-0ce6-4ec4-86e5-b1c782cbb32b"
      },
      "outputs": [
        {
          "name": "stdout",
          "output_type": "stream",
          "text": [
            "Data frames\n"
          ]
        }
      ],
      "source": [
        "print('Data frames')"
      ]
    },
    {
      "cell_type": "code",
      "execution_count": null,
      "metadata": {
        "id": "0TbWrgQvPgW8",
        "outputId": "a17adaa1-6bb1-449a-9809-388f2e7369df"
      },
      "outputs": [
        {
          "name": "stdout",
          "output_type": "stream",
          "text": [
            "     Name   Age\n",
            "0    Alex  10.0\n",
            "1     Bob  12.0\n",
            "2  Clarke  13.0\n"
          ]
        }
      ],
      "source": [
        "data = [['Alex',10],['Bob',12],['Clarke',13]]\n",
        "df = pd.DataFrame(data,columns=['Name','Age'],dtype=float)\n",
        "print(df)"
      ]
    },
    {
      "cell_type": "code",
      "execution_count": null,
      "metadata": {
        "id": "Q7Q-MMKLPgW9",
        "outputId": "2bfa9e02-142a-43bb-c05b-8f61dfe86548"
      },
      "outputs": [
        {
          "name": "stdout",
          "output_type": "stream",
          "text": [
            "Basic Funtionality\n"
          ]
        }
      ],
      "source": [
        "print('Basic Funtionality')"
      ]
    },
    {
      "cell_type": "code",
      "execution_count": null,
      "metadata": {
        "id": "AadlZbmoPgW9",
        "outputId": "c7613e3c-cf56-449c-80ef-d6acaa40d874"
      },
      "outputs": [
        {
          "data": {
            "text/plain": [
              "[RangeIndex(start=0, stop=3, step=1), Index(['Name', 'Age'], dtype='object')]"
            ]
          },
          "execution_count": 13,
          "metadata": {},
          "output_type": "execute_result"
        }
      ],
      "source": [
        "df.axes"
      ]
    },
    {
      "cell_type": "code",
      "execution_count": null,
      "metadata": {
        "id": "E-OsksvuPgW9",
        "outputId": "219a5160-6fc4-4e25-fceb-81a9a8b0dc1f"
      },
      "outputs": [
        {
          "data": {
            "text/plain": [
              "Name     object\n",
              "Age     float64\n",
              "dtype: object"
            ]
          },
          "execution_count": 14,
          "metadata": {},
          "output_type": "execute_result"
        }
      ],
      "source": [
        "df.dtypes"
      ]
    },
    {
      "cell_type": "code",
      "execution_count": null,
      "metadata": {
        "id": "BbMR1dlPPgW9",
        "outputId": "9eea3c51-da4f-43f7-8e22-be5a57b4d59f"
      },
      "outputs": [
        {
          "data": {
            "text/plain": [
              "False"
            ]
          },
          "execution_count": 15,
          "metadata": {},
          "output_type": "execute_result"
        }
      ],
      "source": [
        "df.empty"
      ]
    },
    {
      "cell_type": "code",
      "execution_count": null,
      "metadata": {
        "id": "iHph4zsDPgW-",
        "outputId": "38a8f126-f16e-4fb5-9acd-cc5eb029e481"
      },
      "outputs": [
        {
          "data": {
            "text/plain": [
              "2"
            ]
          },
          "execution_count": 16,
          "metadata": {},
          "output_type": "execute_result"
        }
      ],
      "source": [
        "df.ndim"
      ]
    },
    {
      "cell_type": "code",
      "execution_count": null,
      "metadata": {
        "id": "HpsIpPIEPgW-",
        "outputId": "c0bcfe3a-92e8-4159-f49d-6730d7042711"
      },
      "outputs": [
        {
          "data": {
            "text/plain": [
              "6"
            ]
          },
          "execution_count": 17,
          "metadata": {},
          "output_type": "execute_result"
        }
      ],
      "source": [
        "df.size"
      ]
    },
    {
      "cell_type": "code",
      "execution_count": null,
      "metadata": {
        "id": "KSE4mu5NPgW-",
        "outputId": "00851e1f-557b-4207-eeaf-f4b0bbfbccf3"
      },
      "outputs": [
        {
          "data": {
            "text/plain": [
              "array([['Alex', 10.0],\n",
              "       ['Bob', 12.0],\n",
              "       ['Clarke', 13.0]], dtype=object)"
            ]
          },
          "execution_count": 18,
          "metadata": {},
          "output_type": "execute_result"
        }
      ],
      "source": [
        "df.values"
      ]
    },
    {
      "cell_type": "code",
      "execution_count": null,
      "metadata": {
        "id": "npv2aXnvPgW-",
        "outputId": "b96d6e65-4f79-4cb7-e5a6-104772b71ba5"
      },
      "outputs": [
        {
          "data": {
            "text/html": [
              "<div>\n",
              "<style scoped>\n",
              "    .dataframe tbody tr th:only-of-type {\n",
              "        vertical-align: middle;\n",
              "    }\n",
              "\n",
              "    .dataframe tbody tr th {\n",
              "        vertical-align: top;\n",
              "    }\n",
              "\n",
              "    .dataframe thead th {\n",
              "        text-align: right;\n",
              "    }\n",
              "</style>\n",
              "<table border=\"1\" class=\"dataframe\">\n",
              "  <thead>\n",
              "    <tr style=\"text-align: right;\">\n",
              "      <th></th>\n",
              "      <th>Name</th>\n",
              "      <th>Age</th>\n",
              "    </tr>\n",
              "  </thead>\n",
              "  <tbody>\n",
              "    <tr>\n",
              "      <th>0</th>\n",
              "      <td>Alex</td>\n",
              "      <td>10.0</td>\n",
              "    </tr>\n",
              "  </tbody>\n",
              "</table>\n",
              "</div>"
            ],
            "text/plain": [
              "   Name   Age\n",
              "0  Alex  10.0"
            ]
          },
          "execution_count": 19,
          "metadata": {},
          "output_type": "execute_result"
        }
      ],
      "source": [
        "df.head(1)"
      ]
    },
    {
      "cell_type": "code",
      "execution_count": null,
      "metadata": {
        "id": "v9_xlJXHPgW-",
        "outputId": "c54138b3-e28d-44ac-e4c4-b12767a7c3fc"
      },
      "outputs": [
        {
          "data": {
            "text/html": [
              "<div>\n",
              "<style scoped>\n",
              "    .dataframe tbody tr th:only-of-type {\n",
              "        vertical-align: middle;\n",
              "    }\n",
              "\n",
              "    .dataframe tbody tr th {\n",
              "        vertical-align: top;\n",
              "    }\n",
              "\n",
              "    .dataframe thead th {\n",
              "        text-align: right;\n",
              "    }\n",
              "</style>\n",
              "<table border=\"1\" class=\"dataframe\">\n",
              "  <thead>\n",
              "    <tr style=\"text-align: right;\">\n",
              "      <th></th>\n",
              "      <th>Name</th>\n",
              "      <th>Age</th>\n",
              "    </tr>\n",
              "  </thead>\n",
              "  <tbody>\n",
              "    <tr>\n",
              "      <th>1</th>\n",
              "      <td>Bob</td>\n",
              "      <td>12.0</td>\n",
              "    </tr>\n",
              "    <tr>\n",
              "      <th>2</th>\n",
              "      <td>Clarke</td>\n",
              "      <td>13.0</td>\n",
              "    </tr>\n",
              "  </tbody>\n",
              "</table>\n",
              "</div>"
            ],
            "text/plain": [
              "     Name   Age\n",
              "1     Bob  12.0\n",
              "2  Clarke  13.0"
            ]
          },
          "execution_count": 20,
          "metadata": {},
          "output_type": "execute_result"
        }
      ],
      "source": [
        "df.tail(2)"
      ]
    },
    {
      "cell_type": "code",
      "execution_count": null,
      "metadata": {
        "id": "s3BaiZTpPgW-",
        "outputId": "e221035d-b898-44fb-864c-ddc368256271"
      },
      "outputs": [
        {
          "name": "stdout",
          "output_type": "stream",
          "text": [
            "      Name  Age  Rating\n",
            "0      Tom   25    4.23\n",
            "1    James   26    3.24\n",
            "2    Ricky   25    3.98\n",
            "3      Vin   23    2.56\n",
            "4    Steve   30    3.20\n",
            "5    Smith   29    4.60\n",
            "6     Jack   23    3.80\n",
            "7      Lee   34    3.78\n",
            "8    David   40    2.98\n",
            "9   Gasper   30    4.80\n",
            "10  Betina   51    4.10\n",
            "11  Andres   46    3.65\n"
          ]
        }
      ],
      "source": [
        "#Create a Dictionary of series\n",
        "d = {'Name':pd.Series(['Tom','James','Ricky','Vin','Steve','Smith','Jack','Lee','David','Gasper','Betina','Andres']),\n",
        "     'Age':pd.Series([25,26,25,23,30,29,23,34,40,30,51,46]),\n",
        "     'Rating':pd.Series([4.23,3.24,3.98,2.56,3.20,4.6,3.8,3.78,2.98,4.80,4.10,3.65])\n",
        "}\n",
        "\n",
        "#Create a DataFrame\n",
        "df = pd.DataFrame(d)\n",
        "print(df)"
      ]
    },
    {
      "cell_type": "code",
      "execution_count": null,
      "metadata": {
        "id": "S87PEjHTPgW_",
        "outputId": "12fbf295-539e-429a-90e8-1e5a742f496a"
      },
      "outputs": [
        {
          "name": "stdout",
          "output_type": "stream",
          "text": [
            "Name      TomJamesRickyVinSteveSmithJackLeeDavidGasperBe...\n",
            "Age                                                     382\n",
            "Rating                                                44.92\n",
            "dtype: object\n"
          ]
        }
      ],
      "source": [
        "print(df.sum())"
      ]
    },
    {
      "cell_type": "code",
      "execution_count": null,
      "metadata": {
        "id": "X86FrUqPPgW_",
        "outputId": "432fde06-bd44-4ef5-f2a1-1e5fc716370b"
      },
      "outputs": [
        {
          "data": {
            "text/plain": [
              "382"
            ]
          },
          "execution_count": 23,
          "metadata": {},
          "output_type": "execute_result"
        }
      ],
      "source": [
        "df['Age'].sum()"
      ]
    },
    {
      "cell_type": "code",
      "execution_count": null,
      "metadata": {
        "id": "j6HVNuTAPgW_",
        "outputId": "c1928ae6-091c-472f-8f19-73b974cb85f3"
      },
      "outputs": [
        {
          "name": "stdout",
          "output_type": "stream",
          "text": [
            "0 Name       Tom\n",
            "Age         25\n",
            "Rating    4.23\n",
            "Name: 0, dtype: object\n",
            "1 Name      James\n",
            "Age          26\n",
            "Rating     3.24\n",
            "Name: 1, dtype: object\n",
            "2 Name      Ricky\n",
            "Age          25\n",
            "Rating     3.98\n",
            "Name: 2, dtype: object\n",
            "3 Name       Vin\n",
            "Age         23\n",
            "Rating    2.56\n",
            "Name: 3, dtype: object\n",
            "4 Name      Steve\n",
            "Age          30\n",
            "Rating      3.2\n",
            "Name: 4, dtype: object\n",
            "5 Name      Smith\n",
            "Age          29\n",
            "Rating      4.6\n",
            "Name: 5, dtype: object\n",
            "6 Name      Jack\n",
            "Age         23\n",
            "Rating     3.8\n",
            "Name: 6, dtype: object\n",
            "7 Name       Lee\n",
            "Age         34\n",
            "Rating    3.78\n",
            "Name: 7, dtype: object\n",
            "8 Name      David\n",
            "Age          40\n",
            "Rating     2.98\n",
            "Name: 8, dtype: object\n",
            "9 Name      Gasper\n",
            "Age           30\n",
            "Rating       4.8\n",
            "Name: 9, dtype: object\n",
            "10 Name      Betina\n",
            "Age           51\n",
            "Rating       4.1\n",
            "Name: 10, dtype: object\n",
            "11 Name      Andres\n",
            "Age           46\n",
            "Rating      3.65\n",
            "Name: 11, dtype: object\n"
          ]
        }
      ],
      "source": [
        "for row_index,row in df.iterrows():\n",
        "   print(row_index,row)"
      ]
    },
    {
      "cell_type": "code",
      "execution_count": null,
      "metadata": {
        "id": "lDneo2YDPgW_",
        "outputId": "05d3dae2-6b44-4f4d-a15e-2dd46ae7b907"
      },
      "outputs": [
        {
          "name": "stdout",
          "output_type": "stream",
          "text": [
            "      Name  Age  Rating\n",
            "3      Vin   23    2.56\n",
            "6     Jack   23    3.80\n",
            "2    Ricky   25    3.98\n",
            "0      Tom   25    4.23\n",
            "1    James   26    3.24\n",
            "5    Smith   29    4.60\n",
            "4    Steve   30    3.20\n",
            "9   Gasper   30    4.80\n",
            "7      Lee   34    3.78\n",
            "8    David   40    2.98\n",
            "11  Andres   46    3.65\n",
            "10  Betina   51    4.10\n"
          ]
        }
      ],
      "source": [
        "sorted_df = df.sort_values(by=['Age', 'Rating'])\n",
        "\n",
        "print(sorted_df)"
      ]
    },
    {
      "cell_type": "code",
      "execution_count": null,
      "metadata": {
        "id": "XI0iiIejPgW_",
        "outputId": "f14abfb0-64a0-40e2-bd0b-a27309c86d48"
      },
      "outputs": [
        {
          "data": {
            "text/html": [
              "<div>\n",
              "<style scoped>\n",
              "    .dataframe tbody tr th:only-of-type {\n",
              "        vertical-align: middle;\n",
              "    }\n",
              "\n",
              "    .dataframe tbody tr th {\n",
              "        vertical-align: top;\n",
              "    }\n",
              "\n",
              "    .dataframe thead th {\n",
              "        text-align: right;\n",
              "    }\n",
              "</style>\n",
              "<table border=\"1\" class=\"dataframe\">\n",
              "  <thead>\n",
              "    <tr style=\"text-align: right;\">\n",
              "      <th></th>\n",
              "      <th>Name</th>\n",
              "      <th>Rating</th>\n",
              "    </tr>\n",
              "  </thead>\n",
              "  <tbody>\n",
              "    <tr>\n",
              "      <th>2</th>\n",
              "      <td>Ricky</td>\n",
              "      <td>3.98</td>\n",
              "    </tr>\n",
              "    <tr>\n",
              "      <th>3</th>\n",
              "      <td>Vin</td>\n",
              "      <td>2.56</td>\n",
              "    </tr>\n",
              "    <tr>\n",
              "      <th>4</th>\n",
              "      <td>Steve</td>\n",
              "      <td>3.20</td>\n",
              "    </tr>\n",
              "    <tr>\n",
              "      <th>5</th>\n",
              "      <td>Smith</td>\n",
              "      <td>4.60</td>\n",
              "    </tr>\n",
              "    <tr>\n",
              "      <th>6</th>\n",
              "      <td>Jack</td>\n",
              "      <td>3.80</td>\n",
              "    </tr>\n",
              "    <tr>\n",
              "      <th>7</th>\n",
              "      <td>Lee</td>\n",
              "      <td>3.78</td>\n",
              "    </tr>\n",
              "    <tr>\n",
              "      <th>8</th>\n",
              "      <td>David</td>\n",
              "      <td>2.98</td>\n",
              "    </tr>\n",
              "    <tr>\n",
              "      <th>9</th>\n",
              "      <td>Gasper</td>\n",
              "      <td>4.80</td>\n",
              "    </tr>\n",
              "    <tr>\n",
              "      <th>10</th>\n",
              "      <td>Betina</td>\n",
              "      <td>4.10</td>\n",
              "    </tr>\n",
              "    <tr>\n",
              "      <th>11</th>\n",
              "      <td>Andres</td>\n",
              "      <td>3.65</td>\n",
              "    </tr>\n",
              "  </tbody>\n",
              "</table>\n",
              "</div>"
            ],
            "text/plain": [
              "      Name  Rating\n",
              "2    Ricky    3.98\n",
              "3      Vin    2.56\n",
              "4    Steve    3.20\n",
              "5    Smith    4.60\n",
              "6     Jack    3.80\n",
              "7      Lee    3.78\n",
              "8    David    2.98\n",
              "9   Gasper    4.80\n",
              "10  Betina    4.10\n",
              "11  Andres    3.65"
            ]
          },
          "execution_count": 26,
          "metadata": {},
          "output_type": "execute_result"
        }
      ],
      "source": [
        "df.loc[2:,['Name','Rating']]"
      ]
    },
    {
      "cell_type": "code",
      "execution_count": null,
      "metadata": {
        "collapsed": true,
        "id": "OoCgUekdPgXA"
      },
      "outputs": [],
      "source": [
        "d = {'Name':pd.Series([None,'James',None,'Vin','Steve','Smith','Jack',\n",
        "   'Lee','David','Gasper','Betina','Andres']),\n",
        "   'Age':pd.Series([25,26,25,None,30,29,23,34,40,30,51,46]),\n",
        "   'Rating':pd.Series([4.23,3.24,3.98,2.56,3.20,4.6,3.8,3.78,2.98,4.80,4.10,3.65])\n",
        "}\n",
        "\n",
        "#Create a DataFrame\n",
        "df = pd.DataFrame(d)"
      ]
    },
    {
      "cell_type": "code",
      "execution_count": null,
      "metadata": {
        "id": "GQg-5Q8JPgXA",
        "outputId": "cc6639bf-3a21-456d-8763-eb5abcab6093"
      },
      "outputs": [
        {
          "data": {
            "text/html": [
              "<div>\n",
              "<style scoped>\n",
              "    .dataframe tbody tr th:only-of-type {\n",
              "        vertical-align: middle;\n",
              "    }\n",
              "\n",
              "    .dataframe tbody tr th {\n",
              "        vertical-align: top;\n",
              "    }\n",
              "\n",
              "    .dataframe thead th {\n",
              "        text-align: right;\n",
              "    }\n",
              "</style>\n",
              "<table border=\"1\" class=\"dataframe\">\n",
              "  <thead>\n",
              "    <tr style=\"text-align: right;\">\n",
              "      <th></th>\n",
              "      <th>Name</th>\n",
              "      <th>Age</th>\n",
              "      <th>Rating</th>\n",
              "    </tr>\n",
              "  </thead>\n",
              "  <tbody>\n",
              "    <tr>\n",
              "      <th>0</th>\n",
              "      <td>True</td>\n",
              "      <td>False</td>\n",
              "      <td>False</td>\n",
              "    </tr>\n",
              "    <tr>\n",
              "      <th>1</th>\n",
              "      <td>False</td>\n",
              "      <td>False</td>\n",
              "      <td>False</td>\n",
              "    </tr>\n",
              "    <tr>\n",
              "      <th>2</th>\n",
              "      <td>True</td>\n",
              "      <td>False</td>\n",
              "      <td>False</td>\n",
              "    </tr>\n",
              "    <tr>\n",
              "      <th>3</th>\n",
              "      <td>False</td>\n",
              "      <td>True</td>\n",
              "      <td>False</td>\n",
              "    </tr>\n",
              "    <tr>\n",
              "      <th>4</th>\n",
              "      <td>False</td>\n",
              "      <td>False</td>\n",
              "      <td>False</td>\n",
              "    </tr>\n",
              "    <tr>\n",
              "      <th>5</th>\n",
              "      <td>False</td>\n",
              "      <td>False</td>\n",
              "      <td>False</td>\n",
              "    </tr>\n",
              "    <tr>\n",
              "      <th>6</th>\n",
              "      <td>False</td>\n",
              "      <td>False</td>\n",
              "      <td>False</td>\n",
              "    </tr>\n",
              "    <tr>\n",
              "      <th>7</th>\n",
              "      <td>False</td>\n",
              "      <td>False</td>\n",
              "      <td>False</td>\n",
              "    </tr>\n",
              "    <tr>\n",
              "      <th>8</th>\n",
              "      <td>False</td>\n",
              "      <td>False</td>\n",
              "      <td>False</td>\n",
              "    </tr>\n",
              "    <tr>\n",
              "      <th>9</th>\n",
              "      <td>False</td>\n",
              "      <td>False</td>\n",
              "      <td>False</td>\n",
              "    </tr>\n",
              "    <tr>\n",
              "      <th>10</th>\n",
              "      <td>False</td>\n",
              "      <td>False</td>\n",
              "      <td>False</td>\n",
              "    </tr>\n",
              "    <tr>\n",
              "      <th>11</th>\n",
              "      <td>False</td>\n",
              "      <td>False</td>\n",
              "      <td>False</td>\n",
              "    </tr>\n",
              "  </tbody>\n",
              "</table>\n",
              "</div>"
            ],
            "text/plain": [
              "     Name    Age  Rating\n",
              "0    True  False   False\n",
              "1   False  False   False\n",
              "2    True  False   False\n",
              "3   False   True   False\n",
              "4   False  False   False\n",
              "5   False  False   False\n",
              "6   False  False   False\n",
              "7   False  False   False\n",
              "8   False  False   False\n",
              "9   False  False   False\n",
              "10  False  False   False\n",
              "11  False  False   False"
            ]
          },
          "execution_count": 28,
          "metadata": {},
          "output_type": "execute_result"
        }
      ],
      "source": [
        "df.isnull()"
      ]
    },
    {
      "cell_type": "code",
      "execution_count": null,
      "metadata": {
        "id": "o48fFKRKPgXA",
        "outputId": "67b9dd6f-0e64-42be-8387-efbea5176b1a"
      },
      "outputs": [
        {
          "data": {
            "text/html": [
              "<div>\n",
              "<style scoped>\n",
              "    .dataframe tbody tr th:only-of-type {\n",
              "        vertical-align: middle;\n",
              "    }\n",
              "\n",
              "    .dataframe tbody tr th {\n",
              "        vertical-align: top;\n",
              "    }\n",
              "\n",
              "    .dataframe thead th {\n",
              "        text-align: right;\n",
              "    }\n",
              "</style>\n",
              "<table border=\"1\" class=\"dataframe\">\n",
              "  <thead>\n",
              "    <tr style=\"text-align: right;\">\n",
              "      <th></th>\n",
              "      <th>Name</th>\n",
              "      <th>Age</th>\n",
              "      <th>Rating</th>\n",
              "    </tr>\n",
              "  </thead>\n",
              "  <tbody>\n",
              "    <tr>\n",
              "      <th>0</th>\n",
              "      <td>0</td>\n",
              "      <td>25.0</td>\n",
              "      <td>4.23</td>\n",
              "    </tr>\n",
              "    <tr>\n",
              "      <th>1</th>\n",
              "      <td>James</td>\n",
              "      <td>26.0</td>\n",
              "      <td>3.24</td>\n",
              "    </tr>\n",
              "    <tr>\n",
              "      <th>2</th>\n",
              "      <td>0</td>\n",
              "      <td>25.0</td>\n",
              "      <td>3.98</td>\n",
              "    </tr>\n",
              "    <tr>\n",
              "      <th>3</th>\n",
              "      <td>Vin</td>\n",
              "      <td>0.0</td>\n",
              "      <td>2.56</td>\n",
              "    </tr>\n",
              "    <tr>\n",
              "      <th>4</th>\n",
              "      <td>Steve</td>\n",
              "      <td>30.0</td>\n",
              "      <td>3.20</td>\n",
              "    </tr>\n",
              "    <tr>\n",
              "      <th>5</th>\n",
              "      <td>Smith</td>\n",
              "      <td>29.0</td>\n",
              "      <td>4.60</td>\n",
              "    </tr>\n",
              "    <tr>\n",
              "      <th>6</th>\n",
              "      <td>Jack</td>\n",
              "      <td>23.0</td>\n",
              "      <td>3.80</td>\n",
              "    </tr>\n",
              "    <tr>\n",
              "      <th>7</th>\n",
              "      <td>Lee</td>\n",
              "      <td>34.0</td>\n",
              "      <td>3.78</td>\n",
              "    </tr>\n",
              "    <tr>\n",
              "      <th>8</th>\n",
              "      <td>David</td>\n",
              "      <td>40.0</td>\n",
              "      <td>2.98</td>\n",
              "    </tr>\n",
              "    <tr>\n",
              "      <th>9</th>\n",
              "      <td>Gasper</td>\n",
              "      <td>30.0</td>\n",
              "      <td>4.80</td>\n",
              "    </tr>\n",
              "    <tr>\n",
              "      <th>10</th>\n",
              "      <td>Betina</td>\n",
              "      <td>51.0</td>\n",
              "      <td>4.10</td>\n",
              "    </tr>\n",
              "    <tr>\n",
              "      <th>11</th>\n",
              "      <td>Andres</td>\n",
              "      <td>46.0</td>\n",
              "      <td>3.65</td>\n",
              "    </tr>\n",
              "  </tbody>\n",
              "</table>\n",
              "</div>"
            ],
            "text/plain": [
              "      Name   Age  Rating\n",
              "0        0  25.0    4.23\n",
              "1    James  26.0    3.24\n",
              "2        0  25.0    3.98\n",
              "3      Vin   0.0    2.56\n",
              "4    Steve  30.0    3.20\n",
              "5    Smith  29.0    4.60\n",
              "6     Jack  23.0    3.80\n",
              "7      Lee  34.0    3.78\n",
              "8    David  40.0    2.98\n",
              "9   Gasper  30.0    4.80\n",
              "10  Betina  51.0    4.10\n",
              "11  Andres  46.0    3.65"
            ]
          },
          "execution_count": 29,
          "metadata": {},
          "output_type": "execute_result"
        }
      ],
      "source": [
        "df.fillna(0)"
      ]
    },
    {
      "cell_type": "code",
      "execution_count": null,
      "metadata": {
        "id": "4Sy-YnNuPgXA",
        "outputId": "7c1e0638-b3cb-4a5c-c729-db6db05f61b3"
      },
      "outputs": [
        {
          "name": "stdout",
          "output_type": "stream",
          "text": [
            "   S.No    Name  Age       City  Salary\n",
            "0     1     Tom   28    Toronto   20000\n",
            "1     2     Lee   32   HongKong    3000\n",
            "2     3  Steven   43   Bay Area    8300\n",
            "3     4     Ram   38  Hyderabad    3900\n"
          ]
        }
      ],
      "source": [
        "df=pd.read_csv(\"temp.csv\")\n",
        "print(df)"
      ]
    },
    {
      "cell_type": "code",
      "execution_count": null,
      "metadata": {
        "id": "CzxyiwY8PgXA",
        "outputId": "195adc11-6a7e-4219-9208-5297d48e780f"
      },
      "outputs": [
        {
          "name": "stdout",
          "output_type": "stream",
          "text": [
            "        Name  Age       City  Salary\n",
            "S.No                                \n",
            "1        Tom   28    Toronto   20000\n",
            "2        Lee   32   HongKong    3000\n",
            "3     Steven   43   Bay Area    8300\n",
            "4        Ram   38  Hyderabad    3900\n"
          ]
        }
      ],
      "source": [
        "df=pd.read_csv(\"temp.csv\",index_col=['S.No'])\n",
        "print(df)"
      ]
    },
    {
      "cell_type": "code",
      "execution_count": null,
      "metadata": {
        "id": "rDxUWkEiPgXA",
        "outputId": "0419d142-7efb-4edf-9a96-effed3ac1d23"
      },
      "outputs": [
        {
          "name": "stdout",
          "output_type": "stream",
          "text": [
            "Name       object\n",
            "Age         int64\n",
            "City       object\n",
            "Salary    float64\n",
            "dtype: object\n"
          ]
        }
      ],
      "source": [
        "df=pd.read_csv(\"temp.csv\",index_col=['S.No'], dtype={'Salary': float})\n",
        "print(df.dtypes)"
      ]
    },
    {
      "cell_type": "code",
      "execution_count": null,
      "metadata": {
        "collapsed": true,
        "id": "PBUhC3MDPgXB"
      },
      "outputs": [],
      "source": [
        "# Comparison to SQL: https://datascience.stackexchange.com/questions/34357/why-do-people-prefer-pandas-to-sql"
      ]
    },
    {
      "cell_type": "markdown",
      "metadata": {
        "id": "i89krx8jPgXB"
      },
      "source": [
        "### _Notes from the exercise:_"
      ]
    },
    {
      "cell_type": "markdown",
      "metadata": {
        "id": "6fYzPnWvPgXC"
      },
      "source": [
        "Create a Dataframe using Series with manually added index (_index=[**1**,**0**,2,3,4,5,6,7,8,9,10,**12**]_):"
      ]
    },
    {
      "cell_type": "code",
      "execution_count": null,
      "metadata": {
        "id": "DWr26lS4PgXC",
        "outputId": "def28c11-a8c2-40ac-f815-d1f860c2a12e"
      },
      "outputs": [
        {
          "name": "stdout",
          "output_type": "stream",
          "text": [
            "      Name   Age  Rating\n",
            "0    James  25.0    4.23\n",
            "1      Tom  26.0    3.24\n",
            "2    Ricky  25.0    3.98\n",
            "3      Vin  23.0    2.56\n",
            "4    Steve  30.0    3.20\n",
            "5    Smith  29.0    4.60\n",
            "6     Jack  23.0    3.80\n",
            "7      Lee  34.0    3.78\n",
            "8    David  40.0    2.98\n",
            "9   Gasper  30.0    4.80\n",
            "10  Betina  51.0    4.10\n",
            "11     NaN  46.0    3.65\n",
            "12  Andres   NaN     NaN\n"
          ]
        }
      ],
      "source": [
        "#Create a Dictionary of series\n",
        "s = pd.Series(['Tom','James','Ricky','Vin','Steve','Smith','Jack','Lee','David','Gasper','Betina','Andres'],\n",
        "              index=[1,0,2,3,4,5,6,7,8,9,10,12])\n",
        "\n",
        "d = {'Name':s,\n",
        "   'Age':pd.Series([25,26,25,23,30,29,23,34,40,30,51,46]),\n",
        "   'Rating':pd.Series([4.23,3.24,3.98,2.56,3.20,4.6,3.8,3.78,2.98,4.80,4.10,3.65])\n",
        "}\n",
        "\n",
        "#Create a DataFrame\n",
        "df = pd.DataFrame(d)\n",
        "print(df)"
      ]
    },
    {
      "cell_type": "markdown",
      "metadata": {
        "id": "hXDRJNdfPgXD"
      },
      "source": [
        "Iterating using [slice notation](https://stackoverflow.com/questions/509211/understanding-slice-notation) in Python:"
      ]
    },
    {
      "cell_type": "code",
      "execution_count": null,
      "metadata": {
        "id": "TCKjTqR9PgXD",
        "outputId": "a9b3eac5-9fcc-44b1-9a26-30a213e0652a"
      },
      "outputs": [
        {
          "name": "stdout",
          "output_type": "stream",
          "text": [
            "[0, 2, 4, 6, 8]\n",
            "[1, 3, 5, 7, 9]\n",
            "[2, 5, 8]\n"
          ]
        }
      ],
      "source": [
        "l = [0,1,2,3,4,5,6,7,8,9]\n",
        "\n",
        "# even index\n",
        "print(l[::2])\n",
        "\n",
        "# odd index\n",
        "print(l[1::2])\n",
        "\n",
        "# every third index\n",
        "print(l[2::3])"
      ]
    },
    {
      "cell_type": "code",
      "execution_count": null,
      "metadata": {
        "collapsed": true,
        "id": "n4blw24YPgXD"
      },
      "outputs": [],
      "source": []
    }
  ],
  "metadata": {
    "kernelspec": {
      "display_name": "Python 3",
      "language": "python",
      "name": "python3"
    },
    "language_info": {
      "codemirror_mode": {
        "name": "ipython",
        "version": 3
      },
      "file_extension": ".py",
      "mimetype": "text/x-python",
      "name": "python",
      "nbconvert_exporter": "python",
      "pygments_lexer": "ipython3",
      "version": "3.6.10"
    },
    "colab": {
      "provenance": [],
      "include_colab_link": true
    }
  },
  "nbformat": 4,
  "nbformat_minor": 0
}