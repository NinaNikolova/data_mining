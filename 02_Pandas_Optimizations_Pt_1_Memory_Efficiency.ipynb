{
  "cells": [
    {
      "cell_type": "markdown",
      "metadata": {
        "id": "view-in-github",
        "colab_type": "text"
      },
      "source": [
        "<a href=\"https://colab.research.google.com/github/NinaNikolova/data_mining/blob/main/02_Pandas_Optimizations_Pt_1_Memory_Efficiency.ipynb\" target=\"_parent\"><img src=\"https://colab.research.google.com/assets/colab-badge.svg\" alt=\"Open In Colab\"/></a>"
      ]
    },
    {
      "cell_type": "code",
      "source": [],
      "metadata": {
        "id": "nfN4lHwXkpPK"
      },
      "execution_count": null,
      "outputs": []
    },
    {
      "cell_type": "markdown",
      "metadata": {
        "id": "lci65OmsYZJq"
      },
      "source": [
        "# Ефективно използване на паметта в Python\n",
        "#### Python е език с динамично управление на паметта, което улеснява програмистите, но може да доведе до неефективно използване на ресурсите. Ето няколко начина за оптимизация на паметта:\n",
        "## Използване на вградени структури от данни ефективно - Избягвайте излишни копия на данни. Например, вместо list, използвайте set за бързо търсене или tuple, ако данните не се променят.; Използвайте генератори вместо списъци, когато е възможно - yield(Спестява памет, защото не съхранява всички числа в списък.)\n",
        "##  Използване на __slots__ в класове: Стандартните Python обекти използват речник (__dict__) за атрибутите, което изисква повече памет.; Ако знаете предварително атрибутите на класа, може да използвате __slots__; Това намалява използваната памет при създаване на много обекти.\n",
        "## Избягване на ненужни референции и циклични зависимости - Ако често добавяте или премахвате елементи в началото на списък, collections.deque е по-ефективен\n",
        "## Използване на array и numpy за числови операции - list използва повече памет от array; numpy оптимизира работата с големи числови масиви\n",
        "## Използване на memoryview за работа с бинарни данни- memoryview позволява достъп до съществуваща памет без копиране\n",
        "## Работа с големи файлове чрез mmap - mmap позволява работа с големи файлове без зареждане на целия файл в паметта"
      ]
    },
    {
      "cell_type": "code",
      "execution_count": 1,
      "metadata": {
        "id": "ZuUZntT3YZJs"
      },
      "outputs": [],
      "source": [
        "import pandas as pd\n",
        "import numpy as np"
      ]
    },
    {
      "cell_type": "markdown",
      "metadata": {
        "id": "1HbyW1zuYZJt"
      },
      "source": [
        "## Създаване и оптимизация на данни в Pandas"
      ]
    },
    {
      "cell_type": "markdown",
      "source": [
        "###### Създаване на DataFrame - Кодът представя създаване на случайно генериран Pandas DataFrame и техники за оптимизация на паметта, като кастинг на данни (преобразуване на типове). Функцията get_dataset(size) генерира DataFrame с определен брой редове (size), съдържащ следните колони:"
      ],
      "metadata": {
        "id": "iXg8PkT5ZCXp"
      }
    },
    {
      "cell_type": "code",
      "execution_count": 2,
      "metadata": {
        "collapsed": true,
        "jupyter": {
          "outputs_hidden": true
        },
        "id": "dUFKn2IiYZJt"
      },
      "outputs": [],
      "source": [
        "def get_dataset(size):\n",
        "    df = pd.DataFrame()\n",
        "    df['position'] = np.random.choice(['left','middle','right'], size)  # Случайна позиция\n",
        "    df['age'] = np.random.randint(1, 50, size) # Случайна възраст (1-49)\n",
        "    df['team'] = np.random.choice(['red','blue','yellow','green'], size)  # Отбор\n",
        "    df['win'] = np.random.choice(['yes','no'], size) # Победа/Загуба\n",
        "    df['prob'] = np.random.uniform(0, 1, size)  # Случайна вероятност (0-1)\n",
        "    return df"
      ]
    },
    {
      "cell_type": "markdown",
      "source": [],
      "metadata": {
        "id": "ldGVBW9zmMUz"
      }
    },
    {
      "cell_type": "code",
      "execution_count": 3,
      "metadata": {
        "id": "gebAeN-LYZJt",
        "outputId": "d4b0080d-86dc-470b-e5f7-5200f46fa758",
        "colab": {
          "base_uri": "https://localhost:8080/"
        }
      },
      "outputs": [
        {
          "output_type": "stream",
          "name": "stdout",
          "text": [
            "<class 'pandas.core.frame.DataFrame'>\n",
            "RangeIndex: 1000000 entries, 0 to 999999\n",
            "Data columns (total 5 columns):\n",
            " #   Column    Non-Null Count    Dtype  \n",
            "---  ------    --------------    -----  \n",
            " 0   position  1000000 non-null  object \n",
            " 1   age       1000000 non-null  int64  \n",
            " 2   team      1000000 non-null  object \n",
            " 3   win       1000000 non-null  object \n",
            " 4   prob      1000000 non-null  float64\n",
            "dtypes: float64(1), int64(1), object(3)\n",
            "memory usage: 38.1+ MB\n"
          ]
        }
      ],
      "source": [
        "df = get_dataset(1_000_000) # Създава 1 милион реда\n",
        "df.info()"
      ]
    },
    {
      "cell_type": "markdown",
      "source": [
        "##Ранкиране на стойности в групи\n",
        "######Тестове за ефективност на rank() с %timeit:"
      ],
      "metadata": {
        "id": "Ci9lq7rFnLU7"
      }
    },
    {
      "cell_type": "code",
      "execution_count": 4,
      "metadata": {
        "id": "iIVeIqF0YZJu",
        "outputId": "af67c584-ed0e-4399-e128-1d8c1599eb13",
        "colab": {
          "base_uri": "https://localhost:8080/"
        }
      },
      "outputs": [
        {
          "output_type": "stream",
          "name": "stdout",
          "text": [
            "1.34 s ± 434 ms per loop (mean ± std. dev. of 7 runs, 1 loop each)\n",
            "760 ms ± 29.4 ms per loop (mean ± std. dev. of 7 runs, 1 loop each)\n",
            "789 ms ± 138 ms per loop (mean ± std. dev. of 7 runs, 1 loop each)\n"
          ]
        }
      ],
      "source": [
        "%timeit df['age_rank'] = df.groupby(['team','position'])['age'].rank() #groupby(...).rank() изчислява ранг (позиция) на стойностите в групирани подмножества- Проверка на бързодействието на тези операции.\n",
        "%timeit df['prob_rank'] = df.groupby(['team','position'])['prob'].rank()\n",
        "%timeit df['win_prob_rank'] = df.groupby(['team','position','win'])['prob'].rank()"
      ]
    },
    {
      "cell_type": "markdown",
      "metadata": {
        "id": "5mtmxcYPYZJu"
      },
      "source": [
        "### Оптимизация чрез кастинг на данни"
      ]
    },
    {
      "cell_type": "code",
      "execution_count": 5,
      "metadata": {
        "id": "LO-wGY-kYZJu",
        "outputId": "46d7127b-2afc-4946-8344-f98129962f7f",
        "colab": {
          "base_uri": "https://localhost:8080/"
        }
      },
      "outputs": [
        {
          "output_type": "stream",
          "name": "stdout",
          "text": [
            "<class 'pandas.core.frame.DataFrame'>\n",
            "RangeIndex: 1000000 entries, 0 to 999999\n",
            "Data columns (total 5 columns):\n",
            " #   Column    Non-Null Count    Dtype   \n",
            "---  ------    --------------    -----   \n",
            " 0   position  1000000 non-null  category\n",
            " 1   age       1000000 non-null  int64   \n",
            " 2   team      1000000 non-null  object  \n",
            " 3   win       1000000 non-null  object  \n",
            " 4   prob      1000000 non-null  float64 \n",
            "dtypes: category(1), float64(1), int64(1), object(2)\n",
            "memory usage: 31.5+ MB\n"
          ]
        }
      ],
      "source": [
        "df = get_dataset(1_000_000)\n",
        "df['position'] = df['position'].astype('category') # По подразбиране position и team се съхраняват като object, което заема много памет. Кастингът към category значително намалява използваната памет.\n",
        "df.info()"
      ]
    },
    {
      "cell_type": "code",
      "execution_count": 6,
      "metadata": {
        "id": "h54zxPW5YZJv",
        "outputId": "f8f78ab4-38c6-4148-bbc8-8f99b0162a9f",
        "colab": {
          "base_uri": "https://localhost:8080/"
        }
      },
      "outputs": [
        {
          "output_type": "stream",
          "name": "stdout",
          "text": [
            "<class 'pandas.core.frame.DataFrame'>\n",
            "RangeIndex: 1000000 entries, 0 to 999999\n",
            "Data columns (total 5 columns):\n",
            " #   Column    Non-Null Count    Dtype   \n",
            "---  ------    --------------    -----   \n",
            " 0   position  1000000 non-null  category\n",
            " 1   age       1000000 non-null  int64   \n",
            " 2   team      1000000 non-null  category\n",
            " 3   win       1000000 non-null  object  \n",
            " 4   prob      1000000 non-null  float64 \n",
            "dtypes: category(2), float64(1), int64(1), object(1)\n",
            "memory usage: 24.8+ MB\n"
          ]
        }
      ],
      "source": [
        "df = get_dataset(1_000_000)\n",
        "df['position'] = df['position'].astype('category')\n",
        "df['team'] = df['team'].astype('category')\n",
        "df.info()"
      ]
    },
    {
      "cell_type": "markdown",
      "metadata": {
        "id": "vHTRJn2vYZJv"
      },
      "source": [
        "###  Кастинг на цели числа (int)\n",
        "\n",
        "Различните типове int заемат различно количество памет:\n",
        "\n",
        "- int8 (-128 до 127)\n",
        "\n",
        "- int16 (-32,768 до 32,767)\n",
        "\n",
        "- int64 (-9 квинт. до 9 квинт.)"
      ]
    },
    {
      "cell_type": "code",
      "execution_count": 7,
      "metadata": {
        "id": "dGoK5CTxYZJv",
        "outputId": "6cfacbd8-3763-455c-edc8-11680b08a408",
        "colab": {
          "base_uri": "https://localhost:8080/",
          "height": 458
        }
      },
      "outputs": [
        {
          "output_type": "execute_result",
          "data": {
            "text/plain": [
              "0         20\n",
              "1          7\n",
              "2         45\n",
              "3         48\n",
              "4          4\n",
              "          ..\n",
              "999995    21\n",
              "999996    42\n",
              "999997    29\n",
              "999998    43\n",
              "999999    10\n",
              "Name: age, Length: 1000000, dtype: int64"
            ],
            "text/html": [
              "<div>\n",
              "<style scoped>\n",
              "    .dataframe tbody tr th:only-of-type {\n",
              "        vertical-align: middle;\n",
              "    }\n",
              "\n",
              "    .dataframe tbody tr th {\n",
              "        vertical-align: top;\n",
              "    }\n",
              "\n",
              "    .dataframe thead th {\n",
              "        text-align: right;\n",
              "    }\n",
              "</style>\n",
              "<table border=\"1\" class=\"dataframe\">\n",
              "  <thead>\n",
              "    <tr style=\"text-align: right;\">\n",
              "      <th></th>\n",
              "      <th>age</th>\n",
              "    </tr>\n",
              "  </thead>\n",
              "  <tbody>\n",
              "    <tr>\n",
              "      <th>0</th>\n",
              "      <td>20</td>\n",
              "    </tr>\n",
              "    <tr>\n",
              "      <th>1</th>\n",
              "      <td>7</td>\n",
              "    </tr>\n",
              "    <tr>\n",
              "      <th>2</th>\n",
              "      <td>45</td>\n",
              "    </tr>\n",
              "    <tr>\n",
              "      <th>3</th>\n",
              "      <td>48</td>\n",
              "    </tr>\n",
              "    <tr>\n",
              "      <th>4</th>\n",
              "      <td>4</td>\n",
              "    </tr>\n",
              "    <tr>\n",
              "      <th>...</th>\n",
              "      <td>...</td>\n",
              "    </tr>\n",
              "    <tr>\n",
              "      <th>999995</th>\n",
              "      <td>21</td>\n",
              "    </tr>\n",
              "    <tr>\n",
              "      <th>999996</th>\n",
              "      <td>42</td>\n",
              "    </tr>\n",
              "    <tr>\n",
              "      <th>999997</th>\n",
              "      <td>29</td>\n",
              "    </tr>\n",
              "    <tr>\n",
              "      <th>999998</th>\n",
              "      <td>43</td>\n",
              "    </tr>\n",
              "    <tr>\n",
              "      <th>999999</th>\n",
              "      <td>10</td>\n",
              "    </tr>\n",
              "  </tbody>\n",
              "</table>\n",
              "<p>1000000 rows × 1 columns</p>\n",
              "</div><br><label><b>dtype:</b> int64</label>"
            ]
          },
          "metadata": {},
          "execution_count": 7
        }
      ],
      "source": [
        "df['age']"
      ]
    },
    {
      "cell_type": "code",
      "execution_count": 8,
      "metadata": {
        "id": "nHKuZY1YYZJv",
        "outputId": "f498f071-2f74-442e-b020-43c862ecdad1",
        "colab": {
          "base_uri": "https://localhost:8080/"
        }
      },
      "outputs": [
        {
          "output_type": "execute_result",
          "data": {
            "text/plain": [
              "(1, 49)"
            ]
          },
          "metadata": {},
          "execution_count": 8
        }
      ],
      "source": [
        "df['age'].min(), df['age'].max() # Проверка на обхвата (1-49)"
      ]
    },
    {
      "cell_type": "code",
      "execution_count": 9,
      "metadata": {
        "id": "_9qshJOiYZJw",
        "outputId": "fd40267e-2e56-4878-c844-cf27b456139a",
        "colab": {
          "base_uri": "https://localhost:8080/"
        }
      },
      "outputs": [
        {
          "output_type": "stream",
          "name": "stdout",
          "text": [
            "<class 'pandas.core.frame.DataFrame'>\n",
            "RangeIndex: 1000000 entries, 0 to 999999\n",
            "Data columns (total 5 columns):\n",
            " #   Column    Non-Null Count    Dtype   \n",
            "---  ------    --------------    -----   \n",
            " 0   position  1000000 non-null  category\n",
            " 1   age       1000000 non-null  int8    \n",
            " 2   team      1000000 non-null  category\n",
            " 3   win       1000000 non-null  object  \n",
            " 4   prob      1000000 non-null  float64 \n",
            "dtypes: category(2), float64(1), int8(1), object(1)\n",
            "memory usage: 18.1+ MB\n"
          ]
        }
      ],
      "source": [
        "df['age'] = df['age'].astype('int8') # int8 е достатъчен\n",
        "df.info()"
      ]
    },
    {
      "cell_type": "markdown",
      "metadata": {
        "id": "ReH20Jr0YZJw"
      },
      "source": [
        "### Кастинг на числа с плаваща запетая (float)\n",
        "###### Промяна на типа на prob"
      ]
    },
    {
      "cell_type": "code",
      "execution_count": 10,
      "metadata": {
        "id": "VwK8Z97zYZJw",
        "outputId": "b320e96d-2e65-46df-fe6a-a52c3b2173ee",
        "colab": {
          "base_uri": "https://localhost:8080/",
          "height": 458
        }
      },
      "outputs": [
        {
          "output_type": "execute_result",
          "data": {
            "text/plain": [
              "0         0.663765\n",
              "1         0.491755\n",
              "2         0.347723\n",
              "3         0.711990\n",
              "4         0.399094\n",
              "            ...   \n",
              "999995    0.203425\n",
              "999996    0.073364\n",
              "999997    0.312859\n",
              "999998    0.398014\n",
              "999999    0.336857\n",
              "Name: prob, Length: 1000000, dtype: float64"
            ],
            "text/html": [
              "<div>\n",
              "<style scoped>\n",
              "    .dataframe tbody tr th:only-of-type {\n",
              "        vertical-align: middle;\n",
              "    }\n",
              "\n",
              "    .dataframe tbody tr th {\n",
              "        vertical-align: top;\n",
              "    }\n",
              "\n",
              "    .dataframe thead th {\n",
              "        text-align: right;\n",
              "    }\n",
              "</style>\n",
              "<table border=\"1\" class=\"dataframe\">\n",
              "  <thead>\n",
              "    <tr style=\"text-align: right;\">\n",
              "      <th></th>\n",
              "      <th>prob</th>\n",
              "    </tr>\n",
              "  </thead>\n",
              "  <tbody>\n",
              "    <tr>\n",
              "      <th>0</th>\n",
              "      <td>0.663765</td>\n",
              "    </tr>\n",
              "    <tr>\n",
              "      <th>1</th>\n",
              "      <td>0.491755</td>\n",
              "    </tr>\n",
              "    <tr>\n",
              "      <th>2</th>\n",
              "      <td>0.347723</td>\n",
              "    </tr>\n",
              "    <tr>\n",
              "      <th>3</th>\n",
              "      <td>0.711990</td>\n",
              "    </tr>\n",
              "    <tr>\n",
              "      <th>4</th>\n",
              "      <td>0.399094</td>\n",
              "    </tr>\n",
              "    <tr>\n",
              "      <th>...</th>\n",
              "      <td>...</td>\n",
              "    </tr>\n",
              "    <tr>\n",
              "      <th>999995</th>\n",
              "      <td>0.203425</td>\n",
              "    </tr>\n",
              "    <tr>\n",
              "      <th>999996</th>\n",
              "      <td>0.073364</td>\n",
              "    </tr>\n",
              "    <tr>\n",
              "      <th>999997</th>\n",
              "      <td>0.312859</td>\n",
              "    </tr>\n",
              "    <tr>\n",
              "      <th>999998</th>\n",
              "      <td>0.398014</td>\n",
              "    </tr>\n",
              "    <tr>\n",
              "      <th>999999</th>\n",
              "      <td>0.336857</td>\n",
              "    </tr>\n",
              "  </tbody>\n",
              "</table>\n",
              "<p>1000000 rows × 1 columns</p>\n",
              "</div><br><label><b>dtype:</b> float64</label>"
            ]
          },
          "metadata": {},
          "execution_count": 10
        }
      ],
      "source": [
        "df['prob']"
      ]
    },
    {
      "cell_type": "code",
      "execution_count": 11,
      "metadata": {
        "id": "QPlrrggwYZJw",
        "outputId": "1e5b2b2c-142a-4895-a657-34368a2b0111",
        "colab": {
          "base_uri": "https://localhost:8080/",
          "height": 493
        }
      },
      "outputs": [
        {
          "output_type": "stream",
          "name": "stderr",
          "text": [
            "/usr/local/lib/python3.11/dist-packages/pandas/io/formats/format.py:1458: RuntimeWarning: overflow encountered in cast\n",
            "  has_large_values = (abs_vals > 1e6).any()\n"
          ]
        },
        {
          "output_type": "execute_result",
          "data": {
            "text/plain": [
              "0         0.663574\n",
              "1         0.491699\n",
              "2         0.347656\n",
              "3         0.711914\n",
              "4         0.399170\n",
              "            ...   \n",
              "999995    0.203369\n",
              "999996    0.073364\n",
              "999997    0.312744\n",
              "999998    0.397949\n",
              "999999    0.336914\n",
              "Name: prob, Length: 1000000, dtype: float16"
            ],
            "text/html": [
              "<div>\n",
              "<style scoped>\n",
              "    .dataframe tbody tr th:only-of-type {\n",
              "        vertical-align: middle;\n",
              "    }\n",
              "\n",
              "    .dataframe tbody tr th {\n",
              "        vertical-align: top;\n",
              "    }\n",
              "\n",
              "    .dataframe thead th {\n",
              "        text-align: right;\n",
              "    }\n",
              "</style>\n",
              "<table border=\"1\" class=\"dataframe\">\n",
              "  <thead>\n",
              "    <tr style=\"text-align: right;\">\n",
              "      <th></th>\n",
              "      <th>prob</th>\n",
              "    </tr>\n",
              "  </thead>\n",
              "  <tbody>\n",
              "    <tr>\n",
              "      <th>0</th>\n",
              "      <td>0.663574</td>\n",
              "    </tr>\n",
              "    <tr>\n",
              "      <th>1</th>\n",
              "      <td>0.491699</td>\n",
              "    </tr>\n",
              "    <tr>\n",
              "      <th>2</th>\n",
              "      <td>0.347656</td>\n",
              "    </tr>\n",
              "    <tr>\n",
              "      <th>3</th>\n",
              "      <td>0.711914</td>\n",
              "    </tr>\n",
              "    <tr>\n",
              "      <th>4</th>\n",
              "      <td>0.399170</td>\n",
              "    </tr>\n",
              "    <tr>\n",
              "      <th>...</th>\n",
              "      <td>...</td>\n",
              "    </tr>\n",
              "    <tr>\n",
              "      <th>999995</th>\n",
              "      <td>0.203369</td>\n",
              "    </tr>\n",
              "    <tr>\n",
              "      <th>999996</th>\n",
              "      <td>0.073364</td>\n",
              "    </tr>\n",
              "    <tr>\n",
              "      <th>999997</th>\n",
              "      <td>0.312744</td>\n",
              "    </tr>\n",
              "    <tr>\n",
              "      <th>999998</th>\n",
              "      <td>0.397949</td>\n",
              "    </tr>\n",
              "    <tr>\n",
              "      <th>999999</th>\n",
              "      <td>0.336914</td>\n",
              "    </tr>\n",
              "  </tbody>\n",
              "</table>\n",
              "<p>1000000 rows × 1 columns</p>\n",
              "</div><br><label><b>dtype:</b> float16</label>"
            ]
          },
          "metadata": {},
          "execution_count": 11
        }
      ],
      "source": [
        "df['prob'].astype('float16') #float16 заема по-малко памет, но е по-малко точен"
      ]
    },
    {
      "cell_type": "code",
      "execution_count": 12,
      "metadata": {
        "id": "KP4tdFmiYZJw",
        "outputId": "17074a09-1483-42c2-81ed-1781c71a9ae6",
        "colab": {
          "base_uri": "https://localhost:8080/",
          "height": 458
        }
      },
      "outputs": [
        {
          "output_type": "execute_result",
          "data": {
            "text/plain": [
              "0         0.663765\n",
              "1         0.491755\n",
              "2         0.347723\n",
              "3         0.711990\n",
              "4         0.399094\n",
              "            ...   \n",
              "999995    0.203425\n",
              "999996    0.073364\n",
              "999997    0.312859\n",
              "999998    0.398014\n",
              "999999    0.336857\n",
              "Name: prob, Length: 1000000, dtype: float32"
            ],
            "text/html": [
              "<div>\n",
              "<style scoped>\n",
              "    .dataframe tbody tr th:only-of-type {\n",
              "        vertical-align: middle;\n",
              "    }\n",
              "\n",
              "    .dataframe tbody tr th {\n",
              "        vertical-align: top;\n",
              "    }\n",
              "\n",
              "    .dataframe thead th {\n",
              "        text-align: right;\n",
              "    }\n",
              "</style>\n",
              "<table border=\"1\" class=\"dataframe\">\n",
              "  <thead>\n",
              "    <tr style=\"text-align: right;\">\n",
              "      <th></th>\n",
              "      <th>prob</th>\n",
              "    </tr>\n",
              "  </thead>\n",
              "  <tbody>\n",
              "    <tr>\n",
              "      <th>0</th>\n",
              "      <td>0.663765</td>\n",
              "    </tr>\n",
              "    <tr>\n",
              "      <th>1</th>\n",
              "      <td>0.491755</td>\n",
              "    </tr>\n",
              "    <tr>\n",
              "      <th>2</th>\n",
              "      <td>0.347723</td>\n",
              "    </tr>\n",
              "    <tr>\n",
              "      <th>3</th>\n",
              "      <td>0.711990</td>\n",
              "    </tr>\n",
              "    <tr>\n",
              "      <th>4</th>\n",
              "      <td>0.399094</td>\n",
              "    </tr>\n",
              "    <tr>\n",
              "      <th>...</th>\n",
              "      <td>...</td>\n",
              "    </tr>\n",
              "    <tr>\n",
              "      <th>999995</th>\n",
              "      <td>0.203425</td>\n",
              "    </tr>\n",
              "    <tr>\n",
              "      <th>999996</th>\n",
              "      <td>0.073364</td>\n",
              "    </tr>\n",
              "    <tr>\n",
              "      <th>999997</th>\n",
              "      <td>0.312859</td>\n",
              "    </tr>\n",
              "    <tr>\n",
              "      <th>999998</th>\n",
              "      <td>0.398014</td>\n",
              "    </tr>\n",
              "    <tr>\n",
              "      <th>999999</th>\n",
              "      <td>0.336857</td>\n",
              "    </tr>\n",
              "  </tbody>\n",
              "</table>\n",
              "<p>1000000 rows × 1 columns</p>\n",
              "</div><br><label><b>dtype:</b> float32</label>"
            ]
          },
          "metadata": {},
          "execution_count": 12
        }
      ],
      "source": [
        "df['prob'].astype('float32') #float32 е по-добър баланс между точност и използвана памет."
      ]
    },
    {
      "cell_type": "code",
      "execution_count": 13,
      "metadata": {
        "scrolled": true,
        "id": "isnXvhOdYZJx",
        "outputId": "b14b9018-102a-46e6-a63c-78def2c66067",
        "colab": {
          "base_uri": "https://localhost:8080/"
        }
      },
      "outputs": [
        {
          "output_type": "stream",
          "name": "stdout",
          "text": [
            "<class 'pandas.core.frame.DataFrame'>\n",
            "RangeIndex: 1000000 entries, 0 to 999999\n",
            "Data columns (total 5 columns):\n",
            " #   Column    Non-Null Count    Dtype   \n",
            "---  ------    --------------    -----   \n",
            " 0   position  1000000 non-null  category\n",
            " 1   age       1000000 non-null  int8    \n",
            " 2   team      1000000 non-null  category\n",
            " 3   win       1000000 non-null  object  \n",
            " 4   prob      1000000 non-null  float32 \n",
            "dtypes: category(2), float32(1), int8(1), object(1)\n",
            "memory usage: 14.3+ MB\n"
          ]
        }
      ],
      "source": [
        "df['prob'] = df['prob'].astype('float32')\n",
        "df.info()"
      ]
    },
    {
      "cell_type": "markdown",
      "metadata": {
        "id": "EfDDMRoTYZJx"
      },
      "source": [
        "###  Кастинг на булеви (bool) стойности (True/False)\n",
        "###### Колоната win съдържа \"yes\" и \"no\", които се преобразуват в True/False:"
      ]
    },
    {
      "cell_type": "code",
      "execution_count": 14,
      "metadata": {
        "id": "MhF5dW6KYZJx",
        "outputId": "3e669f3b-f304-4399-9ff6-e2d2939f0b2a",
        "colab": {
          "base_uri": "https://localhost:8080/",
          "height": 458
        }
      },
      "outputs": [
        {
          "output_type": "execute_result",
          "data": {
            "text/plain": [
              "0          no\n",
              "1         yes\n",
              "2         yes\n",
              "3         yes\n",
              "4         yes\n",
              "         ... \n",
              "999995     no\n",
              "999996    yes\n",
              "999997     no\n",
              "999998     no\n",
              "999999    yes\n",
              "Name: win, Length: 1000000, dtype: object"
            ],
            "text/html": [
              "<div>\n",
              "<style scoped>\n",
              "    .dataframe tbody tr th:only-of-type {\n",
              "        vertical-align: middle;\n",
              "    }\n",
              "\n",
              "    .dataframe tbody tr th {\n",
              "        vertical-align: top;\n",
              "    }\n",
              "\n",
              "    .dataframe thead th {\n",
              "        text-align: right;\n",
              "    }\n",
              "</style>\n",
              "<table border=\"1\" class=\"dataframe\">\n",
              "  <thead>\n",
              "    <tr style=\"text-align: right;\">\n",
              "      <th></th>\n",
              "      <th>win</th>\n",
              "    </tr>\n",
              "  </thead>\n",
              "  <tbody>\n",
              "    <tr>\n",
              "      <th>0</th>\n",
              "      <td>no</td>\n",
              "    </tr>\n",
              "    <tr>\n",
              "      <th>1</th>\n",
              "      <td>yes</td>\n",
              "    </tr>\n",
              "    <tr>\n",
              "      <th>2</th>\n",
              "      <td>yes</td>\n",
              "    </tr>\n",
              "    <tr>\n",
              "      <th>3</th>\n",
              "      <td>yes</td>\n",
              "    </tr>\n",
              "    <tr>\n",
              "      <th>4</th>\n",
              "      <td>yes</td>\n",
              "    </tr>\n",
              "    <tr>\n",
              "      <th>...</th>\n",
              "      <td>...</td>\n",
              "    </tr>\n",
              "    <tr>\n",
              "      <th>999995</th>\n",
              "      <td>no</td>\n",
              "    </tr>\n",
              "    <tr>\n",
              "      <th>999996</th>\n",
              "      <td>yes</td>\n",
              "    </tr>\n",
              "    <tr>\n",
              "      <th>999997</th>\n",
              "      <td>no</td>\n",
              "    </tr>\n",
              "    <tr>\n",
              "      <th>999998</th>\n",
              "      <td>no</td>\n",
              "    </tr>\n",
              "    <tr>\n",
              "      <th>999999</th>\n",
              "      <td>yes</td>\n",
              "    </tr>\n",
              "  </tbody>\n",
              "</table>\n",
              "<p>1000000 rows × 1 columns</p>\n",
              "</div><br><label><b>dtype:</b> object</label>"
            ]
          },
          "metadata": {},
          "execution_count": 14
        }
      ],
      "source": [
        "df['win']"
      ]
    },
    {
      "cell_type": "code",
      "execution_count": 15,
      "metadata": {
        "id": "sPVQF94bYZJx",
        "outputId": "354ce0d0-08b2-47a7-8ac1-a6dd3e092678",
        "colab": {
          "base_uri": "https://localhost:8080/",
          "height": 458
        }
      },
      "outputs": [
        {
          "output_type": "execute_result",
          "data": {
            "text/plain": [
              "0         False\n",
              "1          True\n",
              "2          True\n",
              "3          True\n",
              "4          True\n",
              "          ...  \n",
              "999995    False\n",
              "999996     True\n",
              "999997    False\n",
              "999998    False\n",
              "999999     True\n",
              "Name: win, Length: 1000000, dtype: bool"
            ],
            "text/html": [
              "<div>\n",
              "<style scoped>\n",
              "    .dataframe tbody tr th:only-of-type {\n",
              "        vertical-align: middle;\n",
              "    }\n",
              "\n",
              "    .dataframe tbody tr th {\n",
              "        vertical-align: top;\n",
              "    }\n",
              "\n",
              "    .dataframe thead th {\n",
              "        text-align: right;\n",
              "    }\n",
              "</style>\n",
              "<table border=\"1\" class=\"dataframe\">\n",
              "  <thead>\n",
              "    <tr style=\"text-align: right;\">\n",
              "      <th></th>\n",
              "      <th>win</th>\n",
              "    </tr>\n",
              "  </thead>\n",
              "  <tbody>\n",
              "    <tr>\n",
              "      <th>0</th>\n",
              "      <td>False</td>\n",
              "    </tr>\n",
              "    <tr>\n",
              "      <th>1</th>\n",
              "      <td>True</td>\n",
              "    </tr>\n",
              "    <tr>\n",
              "      <th>2</th>\n",
              "      <td>True</td>\n",
              "    </tr>\n",
              "    <tr>\n",
              "      <th>3</th>\n",
              "      <td>True</td>\n",
              "    </tr>\n",
              "    <tr>\n",
              "      <th>4</th>\n",
              "      <td>True</td>\n",
              "    </tr>\n",
              "    <tr>\n",
              "      <th>...</th>\n",
              "      <td>...</td>\n",
              "    </tr>\n",
              "    <tr>\n",
              "      <th>999995</th>\n",
              "      <td>False</td>\n",
              "    </tr>\n",
              "    <tr>\n",
              "      <th>999996</th>\n",
              "      <td>True</td>\n",
              "    </tr>\n",
              "    <tr>\n",
              "      <th>999997</th>\n",
              "      <td>False</td>\n",
              "    </tr>\n",
              "    <tr>\n",
              "      <th>999998</th>\n",
              "      <td>False</td>\n",
              "    </tr>\n",
              "    <tr>\n",
              "      <th>999999</th>\n",
              "      <td>True</td>\n",
              "    </tr>\n",
              "  </tbody>\n",
              "</table>\n",
              "<p>1000000 rows × 1 columns</p>\n",
              "</div><br><label><b>dtype:</b> bool</label>"
            ]
          },
          "metadata": {},
          "execution_count": 15
        }
      ],
      "source": [
        "df['win'].map({'yes':True, 'no':False}) # map() преобразува текстовите стойности в булеви (bool), което заема само 1 бит вместо цял обект (object)."
      ]
    },
    {
      "cell_type": "code",
      "execution_count": 16,
      "metadata": {
        "id": "2bZGsbUAYZJx",
        "outputId": "51188e49-56f6-4063-ad8c-c69a924bf2a0",
        "colab": {
          "base_uri": "https://localhost:8080/"
        }
      },
      "outputs": [
        {
          "output_type": "stream",
          "name": "stdout",
          "text": [
            "<class 'pandas.core.frame.DataFrame'>\n",
            "RangeIndex: 1000000 entries, 0 to 999999\n",
            "Data columns (total 5 columns):\n",
            " #   Column    Non-Null Count    Dtype   \n",
            "---  ------    --------------    -----   \n",
            " 0   position  1000000 non-null  category\n",
            " 1   age       1000000 non-null  int8    \n",
            " 2   team      1000000 non-null  category\n",
            " 3   win       1000000 non-null  bool    \n",
            " 4   prob      1000000 non-null  float32 \n",
            "dtypes: bool(1), category(2), float32(1), int8(1)\n",
            "memory usage: 7.6 MB\n"
          ]
        }
      ],
      "source": [
        "df['win'] = df['win'].map({'yes':True, 'no':False}) # map() преобразува текстовите стойности в булеви (bool), което заема само 1 бит вместо цял обект (object).\n",
        "df.info()"
      ]
    },
    {
      "cell_type": "markdown",
      "metadata": {
        "id": "FWFZWceXYZJx"
      },
      "source": [
        "## Сравняване преди и слд кастване Casting"
      ]
    },
    {
      "cell_type": "code",
      "execution_count": 17,
      "metadata": {
        "collapsed": true,
        "jupyter": {
          "outputs_hidden": true
        },
        "id": "oQTI9HFRYZJx"
      },
      "outputs": [],
      "source": [
        "def set_dtypes(df):\n",
        "    df['position'] = df['position'].astype('category')\n",
        "    df['team'] = df['team'].astype('category')\n",
        "    df['age'] = df['age'].astype('int8')\n",
        "    df['prob'] = df['prob'].astype('float32')\n",
        "    df['win'] = df['win'].map({'yes':True, 'no':False})\n",
        "    return df"
      ]
    },
    {
      "cell_type": "code",
      "execution_count": 18,
      "metadata": {
        "id": "Oci1eaklYZJy",
        "outputId": "2eecbf03-21a0-4ad9-a5e7-3f8004674b57",
        "colab": {
          "base_uri": "https://localhost:8080/"
        }
      },
      "outputs": [
        {
          "output_type": "stream",
          "name": "stdout",
          "text": [
            "490 ms ± 222 ms per loop (mean ± std. dev. of 7 runs, 1 loop each)\n",
            "676 ms ± 304 ms per loop (mean ± std. dev. of 7 runs, 1 loop each)\n",
            "557 ms ± 3.6 ms per loop (mean ± std. dev. of 7 runs, 1 loop each)\n"
          ]
        }
      ],
      "source": [
        "df = get_dataset(1_000_000)\n",
        "%timeit df['age_rank'] = df.groupby(['team','position'])['age'].rank()\n",
        "%timeit df['prob_rank'] = df.groupby(['team','position'])['prob'].rank()\n",
        "%timeit df['win_prob_rank'] = df.groupby(['team','position','win'])['prob'].rank()"
      ]
    },
    {
      "cell_type": "code",
      "execution_count": 19,
      "metadata": {
        "id": "EDYa3osvYZJy",
        "outputId": "e5b76574-832c-4038-b390-3ba39e304a44",
        "colab": {
          "base_uri": "https://localhost:8080/"
        }
      },
      "outputs": [
        {
          "output_type": "stream",
          "name": "stderr",
          "text": [
            "<magic-timeit>:1: FutureWarning: The default of observed=False is deprecated and will be changed to True in a future version of pandas. Pass observed=False to retain current behavior or observed=True to adopt the future default and silence this warning.\n",
            "<magic-timeit>:1: FutureWarning: The default of observed=False is deprecated and will be changed to True in a future version of pandas. Pass observed=False to retain current behavior or observed=True to adopt the future default and silence this warning.\n"
          ]
        },
        {
          "output_type": "stream",
          "name": "stdout",
          "text": [
            "157 ms ± 10.4 ms per loop (mean ± std. dev. of 7 runs, 10 loops each)\n"
          ]
        },
        {
          "output_type": "stream",
          "name": "stderr",
          "text": [
            "<magic-timeit>:1: FutureWarning: The default of observed=False is deprecated and will be changed to True in a future version of pandas. Pass observed=False to retain current behavior or observed=True to adopt the future default and silence this warning.\n"
          ]
        },
        {
          "output_type": "stream",
          "name": "stdout",
          "text": [
            "402 ms ± 52.2 ms per loop (mean ± std. dev. of 7 runs, 1 loop each)\n"
          ]
        },
        {
          "output_type": "stream",
          "name": "stderr",
          "text": [
            "<magic-timeit>:1: FutureWarning: The default of observed=False is deprecated and will be changed to True in a future version of pandas. Pass observed=False to retain current behavior or observed=True to adopt the future default and silence this warning.\n"
          ]
        },
        {
          "output_type": "stream",
          "name": "stdout",
          "text": [
            "337 ms ± 8.39 ms per loop (mean ± std. dev. of 7 runs, 1 loop each)\n"
          ]
        }
      ],
      "source": [
        "df = get_dataset(1_000_000)\n",
        "df = set_dtypes(df)\n",
        "%timeit df['age_rank'] = df.groupby(['team','position'])['age'].rank()\n",
        "%timeit df['prob_rank'] = df.groupby(['team','position'])['prob'].rank()\n",
        "%timeit df['win_prob_rank'] = df.groupby(['team','position','win'])['prob'].rank() # Булеви стойности (bool) заемат по-малко памет от object тип."
      ]
    },
    {
      "cell_type": "markdown",
      "metadata": {
        "id": "QSTtyRVXYZJy"
      },
      "source": [
        "## Larger Data"
      ]
    },
    {
      "cell_type": "code",
      "execution_count": 20,
      "metadata": {
        "id": "ulqw_0tmYZJy",
        "outputId": "65034558-bce4-4f75-e723-ff23788ce48e",
        "colab": {
          "base_uri": "https://localhost:8080/"
        }
      },
      "outputs": [
        {
          "output_type": "stream",
          "name": "stdout",
          "text": [
            "5.54 s ± 279 ms per loop (mean ± std. dev. of 7 runs, 1 loop each)\n",
            "7.43 s ± 1.04 s per loop (mean ± std. dev. of 7 runs, 1 loop each)\n",
            "8.12 s ± 255 ms per loop (mean ± std. dev. of 7 runs, 1 loop each)\n"
          ]
        }
      ],
      "source": [
        "df = get_dataset(10_000_000)\n",
        "%timeit df['age_rank'] = df.groupby(['team','position'])['age'].rank()\n",
        "%timeit df['prob_rank'] = df.groupby(['team','position'])['prob'].rank()\n",
        "%timeit df['win_prob_rank'] = df.groupby(['team','position','win'])['prob'].rank()"
      ]
    },
    {
      "cell_type": "code",
      "execution_count": 21,
      "metadata": {
        "id": "fTdIljLTYZJy",
        "outputId": "99e2c527-fd38-4b4a-c66e-23dbc83800de",
        "colab": {
          "base_uri": "https://localhost:8080/"
        }
      },
      "outputs": [
        {
          "output_type": "stream",
          "name": "stderr",
          "text": [
            "<magic-timeit>:1: FutureWarning: The default of observed=False is deprecated and will be changed to True in a future version of pandas. Pass observed=False to retain current behavior or observed=True to adopt the future default and silence this warning.\n",
            "<magic-timeit>:1: FutureWarning: The default of observed=False is deprecated and will be changed to True in a future version of pandas. Pass observed=False to retain current behavior or observed=True to adopt the future default and silence this warning.\n"
          ]
        },
        {
          "output_type": "stream",
          "name": "stdout",
          "text": [
            "2.95 s ± 283 ms per loop (mean ± std. dev. of 7 runs, 1 loop each)\n"
          ]
        },
        {
          "output_type": "stream",
          "name": "stderr",
          "text": [
            "<magic-timeit>:1: FutureWarning: The default of observed=False is deprecated and will be changed to True in a future version of pandas. Pass observed=False to retain current behavior or observed=True to adopt the future default and silence this warning.\n"
          ]
        },
        {
          "output_type": "stream",
          "name": "stdout",
          "text": [
            "5.39 s ± 264 ms per loop (mean ± std. dev. of 7 runs, 1 loop each)\n"
          ]
        },
        {
          "output_type": "stream",
          "name": "stderr",
          "text": [
            "<magic-timeit>:1: FutureWarning: The default of observed=False is deprecated and will be changed to True in a future version of pandas. Pass observed=False to retain current behavior or observed=True to adopt the future default and silence this warning.\n"
          ]
        },
        {
          "output_type": "stream",
          "name": "stdout",
          "text": [
            "5.66 s ± 329 ms per loop (mean ± std. dev. of 7 runs, 1 loop each)\n"
          ]
        }
      ],
      "source": [
        "df = get_dataset(10_000_000)\n",
        "df = set_dtypes(df)\n",
        "%timeit df['age_rank'] = df.groupby(['team','position'])['age'].rank()\n",
        "%timeit df['prob_rank'] = df.groupby(['team','position'])['prob'].rank()\n",
        "%timeit df['win_prob_rank'] = df.groupby(['team','position','win'])['prob'].rank()"
      ]
    },
    {
      "cell_type": "code",
      "execution_count": 21,
      "metadata": {
        "collapsed": true,
        "jupyter": {
          "outputs_hidden": true
        },
        "id": "jm804XRdYZJy"
      },
      "outputs": [],
      "source": []
    }
  ],
  "metadata": {
    "kernelspec": {
      "display_name": "Python 3 (ipykernel)",
      "language": "python",
      "name": "python3"
    },
    "language_info": {
      "codemirror_mode": {
        "name": "ipython",
        "version": 3
      },
      "file_extension": ".py",
      "mimetype": "text/x-python",
      "name": "python",
      "nbconvert_exporter": "python",
      "pygments_lexer": "ipython3",
      "version": "3.11.7"
    },
    "colab": {
      "provenance": [],
      "include_colab_link": true
    }
  },
  "nbformat": 4,
  "nbformat_minor": 0
}